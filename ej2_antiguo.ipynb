{
 "cells": [
  {
   "cell_type": "markdown",
   "metadata": {},
   "source": [
    "# EJERCICIO 2\n",
    "# Clasificación de Imágenes"
   ]
  },
  {
   "cell_type": "markdown",
   "metadata": {},
   "source": [
    "## Librerías"
   ]
  },
  {
   "cell_type": "code",
   "execution_count": 1,
   "metadata": {},
   "outputs": [],
   "source": [
    "import cv2\n",
    "import os\n",
    "import numpy as np\n",
    "from matplotlib import pyplot as plt\n",
    "from random import sample\n",
    "from random import shuffle\n",
    "from math import ceil as techo\n",
    "from sklearn import svm\n",
    "from sklearn.neighbors import KNeighborsClassifier\n",
    "from sklearn.metrics import classification_report, accuracy_score \n",
    "from sklearn.linear_model import SGDClassifier\n",
    "from sklearn.model_selection import GridSearchCV, RepeatedKFold, StratifiedShuffleSplit\n",
    "from sklearn.ensemble import GradientBoostingClassifier"
   ]
  },
  {
   "cell_type": "markdown",
   "metadata": {},
   "source": [
    "## Funciones"
   ]
  },
  {
   "cell_type": "code",
   "execution_count": 2,
   "metadata": {},
   "outputs": [],
   "source": [
    "def CargaDatos(rutaObjects,verbose=False):\n",
    "    def ordenaDirectorio(directorio, extension=\"jpg\"):\n",
    "        return sorted([os.path.join(directorio, f) for f in os.listdir(directorio) if f.endswith(extension)])\n",
    "    animales = ['elephant', 'emu', 'flamingo', 'rhino']\n",
    "    \n",
    "    datos = {}\n",
    "    for animal in animales:\n",
    "        datos[animal] = ordenaDirectorio(f\"{rutaObjects}/images/{animal}\", extension=\"jpg\"), ordenaDirectorio(f\"{rutaObjects}/masks/{animal}\", extension=\"png\")\n",
    "\n",
    "    print('Cargando datos...')\n",
    "    if verbose:\n",
    "        for animal in datos:\n",
    "            print(f'\\nAnimal: {animal}')\n",
    "            for imagen, mascara in zip(datos[animal][0], datos[animal][1]):\n",
    "                print(f\"Imagen: {os.path.basename(imagen)}, Máscara: {os.path.basename(mascara)}\")\n",
    "    return datos\n",
    "#####################\n",
    "def recortadoAleatorio(pixeles, minimo):\n",
    "    indices = sorted(sample(range(len(pixeles)),minimo))\n",
    "    return np.array([pixeles[indice] for indice in indices]).flatten()\n",
    "####################\n",
    "def desordena(X,Y):\n",
    "    temp = list(zip(X, Y))\n",
    "    shuffle(temp)\n",
    "    return zip(*temp)\n",
    "    \n",
    "\n",
    "#########################\n",
    "def procesaImagen(imagen, mascara,numPixeles):\n",
    "    \n",
    "    def haz_histograma(pixeles):\n",
    "        return np.array([np.histogram(pixelesEnMascara[:,color],bins=np.arange(256))[0] for color in range(3)]).flatten(order='F')\n",
    "    \n",
    "    def MascaraGaussianoSobel(imagen,mascara):\n",
    "        imagen = np.reshape([imagen[i][j] * mascara[i][j] for i in range(tamano[0]) for j in range(tamano[1])],(tamano[0],tamano[1],3))\n",
    "        imagen = cv2.GaussianBlur(imagen, (0, 0), 2, 2)\n",
    "        return  cv2.Sobel(imagen, -1,1,0,ksize=3).flatten() \n",
    "\n",
    "    \n",
    "    \n",
    "    imagen = cv2.imread(imagen)\n",
    "    imagen = cv2.resize(imagen, (tamano[1],tamano[0])) # si lo pongo tal cual y luego hago imagen.shape devuelve (300, 200)\n",
    "\n",
    "    mascara = cv2.imread(mascara, cv2.IMREAD_GRAYSCALE)\n",
    "    mascara = cv2.resize(mascara, (tamano[1],tamano[0]))\n",
    "        \n",
    "    mascaraBinaria = mascara = (mascara > 0).astype(bool)  # Binarizar la máscara\n",
    "    \n",
    "    #imagen = cv2.Sobel(imagen, -1,1,0,ksize=3)    MALOS RESULTADOS   \n",
    "    #imagen = cv2.GaussianBlur(255 - imagen, (0, 0), 2, 2)\n",
    "    \n",
    "    pixelesEnMascara = np.reshape(np.array([np.array(imagen[i][j]) for i in range(tamano[0]) for j in range(tamano[1]) if mascaraBinaria[i][j]]),(sum(sum(mascaraBinaria)),3))\n",
    "    histograma = haz_histograma(pixelesEnMascara)\n",
    "    algunosPixeles = recortadoAleatorio(pixelesEnMascara,numPixeles)\n",
    "   \n",
    "    if numPixeles:\n",
    "        return [*histograma, *algunosPixeles, *MascaraGaussianoSobel(imagen,mascara)]\n",
    "    else:\n",
    "        return [*histograma]\n",
    "###########################\n",
    "def construyeDataset(datos,numPixeles, balancear=True):\n",
    "    \n",
    "    X = []\n",
    "    Y = []\n",
    "    factorMultiplicativo = 1\n",
    "\n",
    "    print('Procesando datos...')\n",
    "    for i in range(factorMultiplicativo):\n",
    "        for animal in datos:\n",
    "            print(f'\\nAnimal: {animal}')\n",
    "            for imagen, mascara in zip(datos[animal][0], datos[animal][1]):\n",
    "                # Cargar y redimensionar imagen\n",
    "                \n",
    "                X.append(procesaImagen(imagen, mascara,numPixeles))\n",
    "\n",
    "                if animal == 'elephant':\n",
    "                    Y.append('E')\n",
    "                elif animal == 'rhino':\n",
    "                    Y.append('R')\n",
    "                else:\n",
    "                    Y.append('O') # la O de Otros\n",
    "    \n",
    "    X = np.array(X)\n",
    "\n",
    "    if balancear:\n",
    "        X = list(X)\n",
    "        Y = list(Y)\n",
    "        nummin = min(Y.count('R'), Y.count('E'), Y.count('O'))\n",
    "        contador = {'R': 0, 'E': 0, 'O': 0}\n",
    "        for i, clase in reversed(list(enumerate(Y))): # lo hago de atras hacia delante porque si borro por ejemplo el indice 127 luego al borrar el indice, por ejemplo, 233, reamente estoy borrando el 234\n",
    "            contador[clase] += 1\n",
    "            #print(i,clase,nummin, contador[clase])\n",
    "            if contador[clase] > nummin:\n",
    "                 #print('X')\n",
    "                 del X[i], Y[i]   \n",
    "    return X, Y\n",
    "\n",
    "def separaEntrenamientoTest(X,Y, razon=0.8):\n",
    "    X, Y = desordena(X, Y)\n",
    "    \n",
    "    X_entrenamiento = X[:techo(len(X)*razon) ]\n",
    "    X_test =          X[ techo(len(X)*razon):]\n",
    "    Y_entrenamiento = Y[:techo(len(X)*razon) ]\n",
    "    Y_test =          Y[ techo(len(X)*razon):]\n",
    "    return X_entrenamiento, Y_entrenamiento, X_test, Y_test"
   ]
  },
  {
   "cell_type": "markdown",
   "metadata": {},
   "source": [
    "## Código Principal"
   ]
  },
  {
   "cell_type": "code",
   "execution_count": 3,
   "metadata": {},
   "outputs": [
    {
     "name": "stdout",
     "output_type": "stream",
     "text": [
      "Cargando datos...\n",
      "Procesando datos...\n",
      "\n",
      "Animal: elephant\n",
      "\n",
      "Animal: emu\n",
      "\n",
      "Animal: flamingo\n",
      "\n",
      "Animal: rhino\n"
     ]
    }
   ],
   "source": [
    "tamano = (200, 300)\n",
    "datos = CargaDatos('../objects')\n",
    "X, Y = construyeDataset(datos,numPixeles=1500, balancear=True)"
   ]
  },
  {
   "cell_type": "markdown",
   "metadata": {},
   "source": [
    "## Validación cruzada"
   ]
  },
  {
   "cell_type": "code",
   "execution_count": 4,
   "metadata": {
    "scrolled": true
   },
   "outputs": [
    {
     "ename": "KeyboardInterrupt",
     "evalue": "",
     "output_type": "error",
     "traceback": [
      "\u001b[0;31m---------------------------------------------------------------------------\u001b[0m",
      "\u001b[0;31mKeyboardInterrupt\u001b[0m                         Traceback (most recent call last)",
      "Cell \u001b[0;32mIn[4], line 6\u001b[0m\n\u001b[1;32m      4\u001b[0m X_entrenamiento, Y_entrenamiento, X_test, Y_test \u001b[38;5;241m=\u001b[39m separaEntrenamientoTest(X,Y,razon\u001b[38;5;241m=\u001b[39m\u001b[38;5;241m0.9\u001b[39m)\n\u001b[1;32m      5\u001b[0m modelo_svm \u001b[38;5;241m=\u001b[39m svm\u001b[38;5;241m.\u001b[39mSVC(kernel\u001b[38;5;241m=\u001b[39m\u001b[38;5;124m'\u001b[39m\u001b[38;5;124mrbf\u001b[39m\u001b[38;5;124m'\u001b[39m)\n\u001b[0;32m----> 6\u001b[0m \u001b[43mmodelo_svm\u001b[49m\u001b[38;5;241;43m.\u001b[39;49m\u001b[43mfit\u001b[49m\u001b[43m(\u001b[49m\u001b[43mX_entrenamiento\u001b[49m\u001b[43m,\u001b[49m\u001b[43mY_entrenamiento\u001b[49m\u001b[43m)\u001b[49m\n\u001b[1;32m      7\u001b[0m Y_predicho \u001b[38;5;241m=\u001b[39m modelo_svm\u001b[38;5;241m.\u001b[39mpredict(X_test)\n\u001b[1;32m      8\u001b[0m acuracis\u001b[38;5;241m.\u001b[39mappend(accuracy_score(Y_test,Y_predicho))\n",
      "File \u001b[0;32m~/Library/CloudStorage/OneDrive-UniversidadedaCoruña/carrera/3/1/pvc/entornoPvc/lib/python3.11/site-packages/sklearn/base.py:1473\u001b[0m, in \u001b[0;36m_fit_context.<locals>.decorator.<locals>.wrapper\u001b[0;34m(estimator, *args, **kwargs)\u001b[0m\n\u001b[1;32m   1466\u001b[0m     estimator\u001b[38;5;241m.\u001b[39m_validate_params()\n\u001b[1;32m   1468\u001b[0m \u001b[38;5;28;01mwith\u001b[39;00m config_context(\n\u001b[1;32m   1469\u001b[0m     skip_parameter_validation\u001b[38;5;241m=\u001b[39m(\n\u001b[1;32m   1470\u001b[0m         prefer_skip_nested_validation \u001b[38;5;129;01mor\u001b[39;00m global_skip_validation\n\u001b[1;32m   1471\u001b[0m     )\n\u001b[1;32m   1472\u001b[0m ):\n\u001b[0;32m-> 1473\u001b[0m     \u001b[38;5;28;01mreturn\u001b[39;00m \u001b[43mfit_method\u001b[49m\u001b[43m(\u001b[49m\u001b[43mestimator\u001b[49m\u001b[43m,\u001b[49m\u001b[43m \u001b[49m\u001b[38;5;241;43m*\u001b[39;49m\u001b[43margs\u001b[49m\u001b[43m,\u001b[49m\u001b[43m \u001b[49m\u001b[38;5;241;43m*\u001b[39;49m\u001b[38;5;241;43m*\u001b[39;49m\u001b[43mkwargs\u001b[49m\u001b[43m)\u001b[49m\n",
      "File \u001b[0;32m~/Library/CloudStorage/OneDrive-UniversidadedaCoruña/carrera/3/1/pvc/entornoPvc/lib/python3.11/site-packages/sklearn/svm/_base.py:250\u001b[0m, in \u001b[0;36mBaseLibSVM.fit\u001b[0;34m(self, X, y, sample_weight)\u001b[0m\n\u001b[1;32m    247\u001b[0m     \u001b[38;5;28mprint\u001b[39m(\u001b[38;5;124m\"\u001b[39m\u001b[38;5;124m[LibSVM]\u001b[39m\u001b[38;5;124m\"\u001b[39m, end\u001b[38;5;241m=\u001b[39m\u001b[38;5;124m\"\u001b[39m\u001b[38;5;124m\"\u001b[39m)\n\u001b[1;32m    249\u001b[0m seed \u001b[38;5;241m=\u001b[39m rnd\u001b[38;5;241m.\u001b[39mrandint(np\u001b[38;5;241m.\u001b[39miinfo(\u001b[38;5;124m\"\u001b[39m\u001b[38;5;124mi\u001b[39m\u001b[38;5;124m\"\u001b[39m)\u001b[38;5;241m.\u001b[39mmax)\n\u001b[0;32m--> 250\u001b[0m \u001b[43mfit\u001b[49m\u001b[43m(\u001b[49m\u001b[43mX\u001b[49m\u001b[43m,\u001b[49m\u001b[43m \u001b[49m\u001b[43my\u001b[49m\u001b[43m,\u001b[49m\u001b[43m \u001b[49m\u001b[43msample_weight\u001b[49m\u001b[43m,\u001b[49m\u001b[43m \u001b[49m\u001b[43msolver_type\u001b[49m\u001b[43m,\u001b[49m\u001b[43m \u001b[49m\u001b[43mkernel\u001b[49m\u001b[43m,\u001b[49m\u001b[43m \u001b[49m\u001b[43mrandom_seed\u001b[49m\u001b[38;5;241;43m=\u001b[39;49m\u001b[43mseed\u001b[49m\u001b[43m)\u001b[49m\n\u001b[1;32m    251\u001b[0m \u001b[38;5;66;03m# see comment on the other call to np.iinfo in this file\u001b[39;00m\n\u001b[1;32m    253\u001b[0m \u001b[38;5;28mself\u001b[39m\u001b[38;5;241m.\u001b[39mshape_fit_ \u001b[38;5;241m=\u001b[39m X\u001b[38;5;241m.\u001b[39mshape \u001b[38;5;28;01mif\u001b[39;00m \u001b[38;5;28mhasattr\u001b[39m(X, \u001b[38;5;124m\"\u001b[39m\u001b[38;5;124mshape\u001b[39m\u001b[38;5;124m\"\u001b[39m) \u001b[38;5;28;01melse\u001b[39;00m (n_samples,)\n",
      "File \u001b[0;32m~/Library/CloudStorage/OneDrive-UniversidadedaCoruña/carrera/3/1/pvc/entornoPvc/lib/python3.11/site-packages/sklearn/svm/_base.py:328\u001b[0m, in \u001b[0;36mBaseLibSVM._dense_fit\u001b[0;34m(self, X, y, sample_weight, solver_type, kernel, random_seed)\u001b[0m\n\u001b[1;32m    314\u001b[0m libsvm\u001b[38;5;241m.\u001b[39mset_verbosity_wrap(\u001b[38;5;28mself\u001b[39m\u001b[38;5;241m.\u001b[39mverbose)\n\u001b[1;32m    316\u001b[0m \u001b[38;5;66;03m# we don't pass **self.get_params() to allow subclasses to\u001b[39;00m\n\u001b[1;32m    317\u001b[0m \u001b[38;5;66;03m# add other parameters to __init__\u001b[39;00m\n\u001b[1;32m    318\u001b[0m (\n\u001b[1;32m    319\u001b[0m     \u001b[38;5;28mself\u001b[39m\u001b[38;5;241m.\u001b[39msupport_,\n\u001b[1;32m    320\u001b[0m     \u001b[38;5;28mself\u001b[39m\u001b[38;5;241m.\u001b[39msupport_vectors_,\n\u001b[1;32m    321\u001b[0m     \u001b[38;5;28mself\u001b[39m\u001b[38;5;241m.\u001b[39m_n_support,\n\u001b[1;32m    322\u001b[0m     \u001b[38;5;28mself\u001b[39m\u001b[38;5;241m.\u001b[39mdual_coef_,\n\u001b[1;32m    323\u001b[0m     \u001b[38;5;28mself\u001b[39m\u001b[38;5;241m.\u001b[39mintercept_,\n\u001b[1;32m    324\u001b[0m     \u001b[38;5;28mself\u001b[39m\u001b[38;5;241m.\u001b[39m_probA,\n\u001b[1;32m    325\u001b[0m     \u001b[38;5;28mself\u001b[39m\u001b[38;5;241m.\u001b[39m_probB,\n\u001b[1;32m    326\u001b[0m     \u001b[38;5;28mself\u001b[39m\u001b[38;5;241m.\u001b[39mfit_status_,\n\u001b[1;32m    327\u001b[0m     \u001b[38;5;28mself\u001b[39m\u001b[38;5;241m.\u001b[39m_num_iter,\n\u001b[0;32m--> 328\u001b[0m ) \u001b[38;5;241m=\u001b[39m \u001b[43mlibsvm\u001b[49m\u001b[38;5;241;43m.\u001b[39;49m\u001b[43mfit\u001b[49m\u001b[43m(\u001b[49m\n\u001b[1;32m    329\u001b[0m \u001b[43m    \u001b[49m\u001b[43mX\u001b[49m\u001b[43m,\u001b[49m\n\u001b[1;32m    330\u001b[0m \u001b[43m    \u001b[49m\u001b[43my\u001b[49m\u001b[43m,\u001b[49m\n\u001b[1;32m    331\u001b[0m \u001b[43m    \u001b[49m\u001b[43msvm_type\u001b[49m\u001b[38;5;241;43m=\u001b[39;49m\u001b[43msolver_type\u001b[49m\u001b[43m,\u001b[49m\n\u001b[1;32m    332\u001b[0m \u001b[43m    \u001b[49m\u001b[43msample_weight\u001b[49m\u001b[38;5;241;43m=\u001b[39;49m\u001b[43msample_weight\u001b[49m\u001b[43m,\u001b[49m\n\u001b[1;32m    333\u001b[0m \u001b[43m    \u001b[49m\u001b[43mclass_weight\u001b[49m\u001b[38;5;241;43m=\u001b[39;49m\u001b[38;5;28;43mgetattr\u001b[39;49m\u001b[43m(\u001b[49m\u001b[38;5;28;43mself\u001b[39;49m\u001b[43m,\u001b[49m\u001b[43m \u001b[49m\u001b[38;5;124;43m\"\u001b[39;49m\u001b[38;5;124;43mclass_weight_\u001b[39;49m\u001b[38;5;124;43m\"\u001b[39;49m\u001b[43m,\u001b[49m\u001b[43m \u001b[49m\u001b[43mnp\u001b[49m\u001b[38;5;241;43m.\u001b[39;49m\u001b[43mempty\u001b[49m\u001b[43m(\u001b[49m\u001b[38;5;241;43m0\u001b[39;49m\u001b[43m)\u001b[49m\u001b[43m)\u001b[49m\u001b[43m,\u001b[49m\n\u001b[1;32m    334\u001b[0m \u001b[43m    \u001b[49m\u001b[43mkernel\u001b[49m\u001b[38;5;241;43m=\u001b[39;49m\u001b[43mkernel\u001b[49m\u001b[43m,\u001b[49m\n\u001b[1;32m    335\u001b[0m \u001b[43m    \u001b[49m\u001b[43mC\u001b[49m\u001b[38;5;241;43m=\u001b[39;49m\u001b[38;5;28;43mself\u001b[39;49m\u001b[38;5;241;43m.\u001b[39;49m\u001b[43mC\u001b[49m\u001b[43m,\u001b[49m\n\u001b[1;32m    336\u001b[0m \u001b[43m    \u001b[49m\u001b[43mnu\u001b[49m\u001b[38;5;241;43m=\u001b[39;49m\u001b[38;5;28;43mself\u001b[39;49m\u001b[38;5;241;43m.\u001b[39;49m\u001b[43mnu\u001b[49m\u001b[43m,\u001b[49m\n\u001b[1;32m    337\u001b[0m \u001b[43m    \u001b[49m\u001b[43mprobability\u001b[49m\u001b[38;5;241;43m=\u001b[39;49m\u001b[38;5;28;43mself\u001b[39;49m\u001b[38;5;241;43m.\u001b[39;49m\u001b[43mprobability\u001b[49m\u001b[43m,\u001b[49m\n\u001b[1;32m    338\u001b[0m \u001b[43m    \u001b[49m\u001b[43mdegree\u001b[49m\u001b[38;5;241;43m=\u001b[39;49m\u001b[38;5;28;43mself\u001b[39;49m\u001b[38;5;241;43m.\u001b[39;49m\u001b[43mdegree\u001b[49m\u001b[43m,\u001b[49m\n\u001b[1;32m    339\u001b[0m \u001b[43m    \u001b[49m\u001b[43mshrinking\u001b[49m\u001b[38;5;241;43m=\u001b[39;49m\u001b[38;5;28;43mself\u001b[39;49m\u001b[38;5;241;43m.\u001b[39;49m\u001b[43mshrinking\u001b[49m\u001b[43m,\u001b[49m\n\u001b[1;32m    340\u001b[0m \u001b[43m    \u001b[49m\u001b[43mtol\u001b[49m\u001b[38;5;241;43m=\u001b[39;49m\u001b[38;5;28;43mself\u001b[39;49m\u001b[38;5;241;43m.\u001b[39;49m\u001b[43mtol\u001b[49m\u001b[43m,\u001b[49m\n\u001b[1;32m    341\u001b[0m \u001b[43m    \u001b[49m\u001b[43mcache_size\u001b[49m\u001b[38;5;241;43m=\u001b[39;49m\u001b[38;5;28;43mself\u001b[39;49m\u001b[38;5;241;43m.\u001b[39;49m\u001b[43mcache_size\u001b[49m\u001b[43m,\u001b[49m\n\u001b[1;32m    342\u001b[0m \u001b[43m    \u001b[49m\u001b[43mcoef0\u001b[49m\u001b[38;5;241;43m=\u001b[39;49m\u001b[38;5;28;43mself\u001b[39;49m\u001b[38;5;241;43m.\u001b[39;49m\u001b[43mcoef0\u001b[49m\u001b[43m,\u001b[49m\n\u001b[1;32m    343\u001b[0m \u001b[43m    \u001b[49m\u001b[43mgamma\u001b[49m\u001b[38;5;241;43m=\u001b[39;49m\u001b[38;5;28;43mself\u001b[39;49m\u001b[38;5;241;43m.\u001b[39;49m\u001b[43m_gamma\u001b[49m\u001b[43m,\u001b[49m\n\u001b[1;32m    344\u001b[0m \u001b[43m    \u001b[49m\u001b[43mepsilon\u001b[49m\u001b[38;5;241;43m=\u001b[39;49m\u001b[38;5;28;43mself\u001b[39;49m\u001b[38;5;241;43m.\u001b[39;49m\u001b[43mepsilon\u001b[49m\u001b[43m,\u001b[49m\n\u001b[1;32m    345\u001b[0m \u001b[43m    \u001b[49m\u001b[43mmax_iter\u001b[49m\u001b[38;5;241;43m=\u001b[39;49m\u001b[38;5;28;43mself\u001b[39;49m\u001b[38;5;241;43m.\u001b[39;49m\u001b[43mmax_iter\u001b[49m\u001b[43m,\u001b[49m\n\u001b[1;32m    346\u001b[0m \u001b[43m    \u001b[49m\u001b[43mrandom_seed\u001b[49m\u001b[38;5;241;43m=\u001b[39;49m\u001b[43mrandom_seed\u001b[49m\u001b[43m,\u001b[49m\n\u001b[1;32m    347\u001b[0m \u001b[43m\u001b[49m\u001b[43m)\u001b[49m\n\u001b[1;32m    349\u001b[0m \u001b[38;5;28mself\u001b[39m\u001b[38;5;241m.\u001b[39m_warn_from_fit_status()\n",
      "\u001b[0;31mKeyboardInterrupt\u001b[0m: "
     ]
    }
   ],
   "source": [
    "acuracis = []\n",
    "N = 80\n",
    "for i in range(N):\n",
    "    X_entrenamiento, Y_entrenamiento, X_test, Y_test = separaEntrenamientoTest(X,Y,razon=0.9)\n",
    "    modelo_svm = svm.SVC(kernel='rbf')\n",
    "    modelo_svm.fit(X_entrenamiento,Y_entrenamiento)\n",
    "    Y_predicho = modelo_svm.predict(X_test)\n",
    "    acuracis.append(accuracy_score(Y_test,Y_predicho))"
   ]
  },
  {
   "cell_type": "code",
   "execution_count": null,
   "metadata": {},
   "outputs": [],
   "source": [
    "media = round(np.mean(acuracis),2)\n",
    "sigma = round(np.sqrt(np.var(acuracis)),2)\n",
    "mediana = round(np.median(acuracis),2)\n",
    "\n",
    "plt.figure(figsize = (10, 5))\n",
    "plt.axvline(x = .5, color = '#8fbcbb',label='0.5')\n",
    "plt.axvline(x = media, color = '#81a1c1',label='media de accuracy')\n",
    "plt.axvline(x = media + sigma , color = '#a3be8c',label='+σ')\n",
    "plt.axvline(x = media - sigma, color = '#a3be8c',label='-σ')\n",
    "plt.axvline(x = mediana, color = '#ebcb8b',label='mediana')\n",
    "\n",
    "plt.hist(acuracis,color='#4c566a',bins=10)\n",
    "plt.legend()\n",
    "\n",
    "print(f'Acuracy de {media} ± {sigma}. Se usaron {N} intentos.')"
   ]
  },
  {
   "cell_type": "code",
   "execution_count": null,
   "metadata": {},
   "outputs": [],
   "source": []
  }
 ],
 "metadata": {
  "kernelspec": {
   "display_name": "entornoPvc",
   "language": "python",
   "name": "entornopvc"
  },
  "language_info": {
   "codemirror_mode": {
    "name": "ipython",
    "version": 3
   },
   "file_extension": ".py",
   "mimetype": "text/x-python",
   "name": "python",
   "nbconvert_exporter": "python",
   "pygments_lexer": "ipython3",
   "version": "3.11.0"
  }
 },
 "nbformat": 4,
 "nbformat_minor": 4
}
