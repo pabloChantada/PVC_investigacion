{
 "cells": [
  {
   "cell_type": "markdown",
   "metadata": {},
   "source": [
    "# EJERCICIO 2\n",
    "# Clasificación de Imágenes"
   ]
  },
  {
   "cell_type": "markdown",
   "metadata": {},
   "source": [
    "## Librerías"
   ]
  },
  {
   "cell_type": "code",
   "execution_count": 1,
   "metadata": {},
   "outputs": [],
   "source": [
    "import cv2\n",
    "import os\n",
    "import numpy as np\n",
    "from matplotlib import pyplot as plt\n",
    "from random import sample\n",
    "from random import shuffle\n",
    "from math import ceil as techo\n",
    "from sklearn import svm\n",
    "from sklearn.neighbors import KNeighborsClassifier\n",
    "from sklearn.metrics import classification_report, accuracy_score \n",
    "from sklearn.linear_model import SGDClassifier\n",
    "from sklearn.model_selection import GridSearchCV, RepeatedKFold, StratifiedShuffleSplit\n",
    "from sklearn.ensemble import GradientBoostingClassifier"
   ]
  },
  {
   "cell_type": "markdown",
   "metadata": {},
   "source": [
    "## Funciones"
   ]
  },
  {
   "cell_type": "code",
   "execution_count": 2,
   "metadata": {},
   "outputs": [],
   "source": [
    "def CargaDatos(rutaObjects,verbose=False):\n",
    "    def ordenaDirectorio(directorio, extension=\"jpg\"):\n",
    "        return sorted([os.path.join(directorio, f) for f in os.listdir(directorio) if f.endswith(extension)])\n",
    "    animales = ['elephant', 'emu', 'flamingo', 'rhino']\n",
    "    \n",
    "    datos = {}\n",
    "    for animal in animales:\n",
    "        datos[animal] = ordenaDirectorio(f\"{rutaObjects}/images/{animal}\", extension=\"jpg\"), ordenaDirectorio(f\"{rutaObjects}/masks/{animal}\", extension=\"png\")\n",
    "\n",
    "    print('Cargando datos...')\n",
    "    if verbose: # vale para comprobar la biyección imagen-mascara\n",
    "        for animal in datos:\n",
    "            print(f'\\nAnimal: {animal}')\n",
    "            for imagen, mascara in zip(datos[animal][0], datos[animal][1]):\n",
    "                print(f\"Imagen: {os.path.basename(imagen)}, Máscara: {os.path.basename(mascara)}\")\n",
    "    return datos\n",
    "#####################\n",
    "def recortadoAleatorio(pixeles, minimo):\n",
    "    indices = sorted(sample(range(len(pixeles)),minimo)) # ordena una seleccion sin repeticion de #minimo elementos de entre una lista de elementos de todos los numeros naturales que se corresponden con indices es la máscara\n",
    "    return np.array([pixeles[indice] for indice in indices]).flatten() # selecciona en la imagen los elementos cuyos indices fueron seleccionados en la línea anterior\n",
    "####################\n",
    "def desordena(X,Y): # una funcion conveniente \n",
    "    temp = list(zip(X, Y))\n",
    "    shuffle(temp)\n",
    "    return zip(*temp)\n",
    "    \n",
    "\n",
    "#########################\n",
    "def procesaImagen(imagen, mascara,numPixeles,pixeliza):\n",
    "    \n",
    "    def haz_histograma(pixeles):\n",
    "        return np.array([np.histogram(pixelesEnMascara[:,color],bins=np.arange(256))[0] for color in range(3)]).flatten(order='F') # lo de order=F vale para que los tres histogramas esten concatenados y no entrelazados\n",
    "    \n",
    "    def MascaraGaussianoSobel(imagen,mascara,pixeliza):\n",
    "        imagen = np.reshape([imagen[i][j] * mascara[i][j] for i in range(tamano[0]) for j in range(tamano[1])],(tamano[0],tamano[1],3))\n",
    "        imagen = np.transpose([fila  for fila in np.transpose([fila  for fila in imagen if np.sum(fila) > 0 ],(1,0,2)) if np.sum(fila) > 0],(1,0,2)) # quita \n",
    "        imagen = cv2.GaussianBlur(imagen, (0, 0), 2, 2)\n",
    "        imagen = cv2.Sobel(imagen, -1,1,0,ksize=3)\n",
    "        return  cv2.resize(imagen, (int(tamano[1]*pixeliza),int(tamano[0]*pixeliza))).flatten() \n",
    "\n",
    "    \n",
    "    \n",
    "    imagen = cv2.imread(imagen)\n",
    "    imagen = cv2.resize(imagen, (tamano[1],tamano[0])) # si lo pongo tal cual y luego hago imagen.shape devuelve (300, 200)\n",
    "\n",
    "    mascara = cv2.imread(mascara, cv2.IMREAD_GRAYSCALE)\n",
    "    mascara = cv2.resize(mascara, (tamano[1],tamano[0])) # si lo pongo tal cual y luego hago imagen.shape devuelve (300, 200)\n",
    "\n",
    "        \n",
    "    mascaraBinaria = mascara = (mascara > 0).astype(bool)  # Binarizar la máscara\n",
    "    \n",
    "\n",
    "    pixelesEnMascara = np.reshape(np.array([np.array(imagen[i][j]) for i in range(tamano[0]) for j in range(tamano[1]) if mascaraBinaria[i][j]]),(sum(sum(mascaraBinaria)),3))\n",
    "    histograma = haz_histograma(pixelesEnMascara)\n",
    "    algunosPixeles = recortadoAleatorio(pixelesEnMascara,numPixeles)\n",
    "   \n",
    "    if numPixeles:\n",
    "        return [*histograma, *algunosPixeles, *MascaraGaussianoSobel(imagen,mascara,pixeliza)]\n",
    "    else:\n",
    "        return [*histograma]\n",
    "###########################\n",
    "def construyeDataset(datos,numPixeles,pixeliza,balancear=True):\n",
    "    \n",
    "    X = []\n",
    "    Y = []\n",
    "\n",
    "    print('Procesando datos...')\n",
    "    for animal in datos:\n",
    "        print(f'\\nAnimal: {animal}')\n",
    "        for imagen, mascara in zip(datos[animal][0], datos[animal][1]):\n",
    "            X.append(procesaImagen(imagen, mascara,numPixeles,pixeliza)) # se le pasa la imagen la masacara y los hipeparametros a la funcion conveniente y se mete en X\n",
    "            if animal == 'elephant': Y.append('E') # metemos en Y la etiqueta\n",
    "            elif animal == 'rhino': Y.append('R')\n",
    "            else: Y.append('O') # la O de Otros\n",
    "                    \n",
    "    \n",
    "    X = np.array(X)\n",
    "\n",
    "    if balancear: # si se balancea o si no se balancea es una decisión del usuario. Experimentalmente se consiguieron mejores resultados balanceando.\n",
    "        X = list(X)\n",
    "        Y = list(Y)\n",
    "        nummin = min(Y.count('R'), Y.count('E'), Y.count('O')) # cuantos elementos tiene la clase mas pequeña\n",
    "        contador = {'R': 0, 'E': 0, 'O': 0} # un contador que lo iniciamos a cero\n",
    "        for i, clase in reversed(list(enumerate(Y))): # lo hago de atras hacia delante porque si borro por ejemplo el indice 127 luego al borrar el indice, por ejemplo, 233, reamente estoy borrando el 234\n",
    "            contador[clase] += 1 # vamos recorriendo la lista de atras a delante, cada vez que nos encontramos un elemento lo añadimos uno al contador\n",
    "            if contador[clase] > nummin: # en el momento en que un contador exceda nummin significa que estamos ante un elemento que deberíamos borrar para que en todas las clases haya el mismo número de elementos\n",
    "                 del X[i], Y[i] # lo borramos\n",
    "    return X, Y \n",
    "\n",
    "def separaEntrenamientoTest(X,Y, razon=0.8,unoFuera=False):\n",
    "    X, Y = desordena(X, Y)\n",
    "    \n",
    "    if unoFuera:\n",
    "        X_entrenamiento = X[:-2]\n",
    "        X_test =          np.array(X[-1]).reshape(1, -1)\n",
    "        Y_entrenamiento = Y[:-2]\n",
    "        Y_test =          np.array(Y[-1]).reshape(1, -1)\n",
    "        return X_entrenamiento, Y_entrenamiento, X_test, Y_test\n",
    "    \n",
    "    X_entrenamiento = X[:techo(len(X)*razon) ]\n",
    "    X_test =          X[ techo(len(X)*razon):]\n",
    "    Y_entrenamiento = Y[:techo(len(X)*razon) ]\n",
    "    Y_test =          Y[ techo(len(X)*razon):]\n",
    "    return X_entrenamiento, Y_entrenamiento, X_test, Y_test\n",
    "\n",
    "def plot_listaDeAccuracy(listaDeAccuracy):\n",
    "    \n",
    "    media = round(np.mean(listaDeAccuracy),2)\n",
    "    sigma = round(np.sqrt(np.var(listaDeAccuracy)),2)\n",
    "    mediana = round(np.median(listaDeAccuracy),2)\n",
    "    \n",
    "    plt.figure(figsize = (10, 5))\n",
    "    plt.axvline(x = .5, color = '#8fbcbb',label='0.5')\n",
    "    plt.axvline(x = media, color = '#81a1c1',label='media de accuracy')\n",
    "    plt.axvline(x = media + sigma , color = '#a3be8c',label='+σ')\n",
    "    plt.axvline(x = media - sigma, color = '#a3be8c',label='-σ')\n",
    "    plt.axvline(x = mediana, color = '#ebcb8b',label='mediana')\n",
    "    \n",
    "    plt.hist(listaDeAccuracy,color='#4c566a',bins=10)\n",
    "    plt.legend()\n",
    "    \n",
    "    print(f'Acuracy de {media} ± {sigma}\\nMediana de {mediana}\\nSe usaron {N} intentos.')"
   ]
  },
  {
   "cell_type": "markdown",
   "metadata": {},
   "source": [
    "## Código Principal"
   ]
  },
  {
   "cell_type": "code",
   "execution_count": 3,
   "metadata": {},
   "outputs": [
    {
     "name": "stdout",
     "output_type": "stream",
     "text": [
      "Cargando datos...\n",
      "Procesando datos...\n",
      "\n",
      "Animal: elephant\n",
      "\n",
      "Animal: emu\n",
      "\n",
      "Animal: flamingo\n",
      "\n",
      "Animal: rhino\n"
     ]
    }
   ],
   "source": [
    "tamano = (200, 300)\n",
    "\n",
    "datos = CargaDatos('../objects')\n",
    "\n",
    "X, Y = construyeDataset(datos,numPixeles=2000, pixeliza=1, balancear=True)"
   ]
  },
  {
   "cell_type": "markdown",
   "metadata": {},
   "source": [
    "## Un entrenamiento"
   ]
  },
  {
   "cell_type": "code",
   "execution_count": 4,
   "metadata": {},
   "outputs": [
    {
     "name": "stdout",
     "output_type": "stream",
     "text": [
      "              precision    recall  f1-score   support\n",
      "\n",
      "           E       0.73      1.00      0.84         8\n",
      "           O       1.00      0.88      0.94        17\n",
      "           R       0.89      0.80      0.84        10\n",
      "\n",
      "    accuracy                           0.89        35\n",
      "   macro avg       0.87      0.89      0.87        35\n",
      "weighted avg       0.91      0.89      0.89        35\n",
      "\n"
     ]
    }
   ],
   "source": [
    "X_entrenamiento, Y_entrenamiento, X_test, Y_test = separaEntrenamientoTest(X,Y,razon=0.8)\n",
    "#X_entrenamiento, Y_entrenamiento, X_test, Y_test = separaEntrenamientoTest(X,Y,unoFuera=True)\n",
    "\n",
    "modelo_svm = svm.SVC(kernel='rbf')\n",
    "modelo_svm.fit(X_entrenamiento,Y_entrenamiento)\n",
    "Y_predicho = modelo_svm.predict(X_test)\n",
    "print(classification_report(Y_test,Y_predicho))"
   ]
  },
  {
   "cell_type": "markdown",
   "metadata": {},
   "source": [
    "## Distribución del accuracy"
   ]
  },
  {
   "cell_type": "code",
   "execution_count": 5,
   "metadata": {
    "scrolled": true
   },
   "outputs": [],
   "source": [
    "listaDeAccuracy = []\n",
    "N = 1000\n",
    "for i in range(N):\n",
    "    X_entrenamiento, Y_entrenamiento, X_test, Y_test = separaEntrenamientoTest(X,Y,razon=0.85)\n",
    "    #X_entrenamiento, Y_entrenamiento, X_test, Y_test = separaEntrenamientoTest(X,Y,unoFuera=True)\n",
    "    modelo_svm = svm.SVC(kernel='rbf')\n",
    "    modelo_svm.fit(X_entrenamiento,Y_entrenamiento)\n",
    "    Y_predicho = modelo_svm.predict(X_test)\n",
    "    listaDeAccuracy.append(accuracy_score(Y_test,Y_predicho))"
   ]
  },
  {
   "cell_type": "code",
   "execution_count": 6,
   "metadata": {},
   "outputs": [
    {
     "name": "stdout",
     "output_type": "stream",
     "text": [
      "Acuracy de 0.84 ± 0.07\n",
      "Mediana de 0.85\n",
      "Se usaron 1000 intentos.\n"
     ]
    },
    {
     "data": {
      "image/png": "[encoded data removed]",
      "text/plain": [
       "<Figure size 1000x500 with 1 Axes>"
      ]
     },
     "metadata": {},
     "output_type": "display_data"
    }
   ],
   "source": [
    "plot_listaDeAccuracy(listaDeAccuracy)"
   ]
  },
  {
   "cell_type": "markdown",
   "metadata": {},
   "source": [
    "# Metodología empleada"
   ]
  },
  {
   "cell_type": "markdown",
   "metadata": {},
   "source": [
    "## Procesado. De imágenes a vectores\n",
    "\n",
    "Se empieza a narrar la práctica desde que tenemos las imágenes leidas, y estan almacenadas como tensores $[m\\times n\\times 3]$. Para detalles en la implementación ver ```CargaDatos(ruta)```. A partir de ahí hacemos transformaciones sobre esos tensores para conseguir vectores cuyos elementos representen lo más posible a la clase de la imagen $\\{$ rinoceronte, elefante, otros. $\\}$. Se probaron múltiples opciones y combinaciones, a continuación se presentan las componentes del vector (se puede encontrar todos los detalles en  el código):\n",
    " - **Histograma:** Un vector de $3\\times 256$ elementos donde el elemento $i + 256\\times j \\quad (i \\in \\{0 ... 255\\}, j \\in \\{0, 1, 2\\})$ es la cantidad de pixeles de el color $j$ con la intensidad $i$. Para más detalles ver `haz_histograma(pixeles)`.\n",
    " - **Algunos pixeles:** Una seleccion aleatoria (pero en orden) de algunos de los pixeles de la imagen original tales que están dentro de la máscara. Experimentos han demostrado que algunos pixeles ofrecen mejor rendimiento que ningún pixel. Aunque la distrubución de probabilidad marginal de que un pixel sea de un color ya se tiene con el histograma, estos píxeles ofrecen alguna característica que ayuda a diferenciar mejor. La decisión actual sobre el numero de pixeles es $2000$. Para más detalles ver `recortadoAleatorio(pixeles, minimo)`.\n",
    " - **Sobel de la gausiana con máscara:** A la imagen original se le aplica la máscara de forma que todos los pixeles de fuera de la máscara valgan 0, después se le aplica un filtro gausiano que emborrona la imagen y facilita la tarea del Sobel. Esto es porque Sobel no puede diferenciar fácilmente entre un borde semántico y una variación muy fuerte y repentina en la función $f(x,y)$ de la imagen, pero el filtro gausiano reduce la influencia de estas anomalías. Posteriormente aplicamos el filtro Sobel y devolvemos la imagen. Como la imagen es de $(200\\times 300)$, este tercer punto merece ser revisado, con el objetivo de poder comprimir el número de elementos del vector. Para detalles en implementación ver `MascaraGaussianoSobel(imagen,mascara,padin,pixeliza)`. Se exploró con fin de reducir el tamaño del vector:\n",
    "     - *Recortar la imagen:* Después de aplicar la máscara los píxeles que no pertenecen a ella valen cero. Las máscaras son de los objetos. Los objetos suelen estar en el medio de la imagen. Con esta suposición inferimos que después de aplicar la máscara, esta estará rodeada de píxeles negros, lo cual no aporta información y en general podemos decir que _molesta_. Motivados por esta creencia recortamos la imagen descartando las primeras y últimas filas y columnas. Esto lo hicimos mediante dos aproximaciones.\n",
    "         - En primer lugar decidimos usar un recorte fijo. Buscando cuantos pixeles recortar nos llevamos una sorpresa cuando vimos la grafica de abajo, porque se ve que el rendimiento no mejora segun recortamos.\n",
    "         - Para arreglarlo hicimos un recorte dinámico. Esto ofreció muy buenos resultados.\n",
    "     - *Bajar la resolución:* Como son muchos píxeles y sólo nos estamos fijando en los bordes (estamos aplicando Sobel), parece que no es muy necesaria la precision, por eso decidimos implementar la posibilidad de reducir la resolución de la imagen. Experimentalmente encontramos que la resolución original es la mejor (aunque ello conlleve un gran número de elementos), es decir, `pixeliza = 1`. \n",
    "\n",
    "La forma en la que lo previo se relaciona entre sí puede verse en `procesaImagen(imagen,mascara,numPixeles,padin,pixeliza)` y en `construyeDataset(datos,numPixeles,padin,pixeliza,balancear=True)`. \n",
    "\n",
    "![h](figuras/accuracyrecorte35.png)\n",
    "\n",
    "## Aprendizaje. De vectores a clases\n",
    "### Algoritmo\n",
    "La librería de Python Scikit Learn fue ampliamente explorada porque ante la pregunta ¿Qué algoritmo debería usar? la mejor respuesta fue usar varios y compararlos. Ganó entre ellos la máquina de soporte vectorial con kernel radial. Se exploró con valores de `gamma` sólo para apreciar una ligera mejora. No vale la pena perder tiempo con eso. En el resultado final no se especifíca nada más que el kernel.\n",
    "\n",
    "### Presentación\n",
    " - Un entrenamiento con sus métricas (F1, precision, recall, accuracy) se presenta arriba en el cuarderno. Si bien es cierto que una métrica puede ser engañosa, el conjunto de todas ellas parece insinuar que el entrenamiento fue correcto.\n",
    " - Adicionalmente se presenta un bucle de entrenamientos en los que se guarda el accuracy de cada uno de ellos y se presenta estadística descriptiva que avala que el entrenamiento anterior no ocurrio favorablemente _de chiripa_.\n",
    " - Como esto es un cuaderno, ¡Te invito a que lo ejecutes y pruebes tu mismo! De esta forma verás que lo que digo es cierto y además el efecto de cambiar los hiperparámetros."
   ]
  },
  {
   "cell_type": "code",
   "execution_count": null,
   "metadata": {},
   "outputs": [],
   "source": []
  }
 ],
 "metadata": {
  "kernelspec": {
   "display_name": "entornoPvc",
   "language": "python",
   "name": "entornopvc"
  },
  "language_info": {
   "codemirror_mode": {
    "name": "ipython",
    "version": 3
   },
   "file_extension": ".py",
   "mimetype": "text/x-python",
   "name": "python",
   "nbconvert_exporter": "python",
   "pygments_lexer": "ipython3",
   "version": "3.11.0"
  }
 },
 "nbformat": 4,
 "nbformat_minor": 4
}
