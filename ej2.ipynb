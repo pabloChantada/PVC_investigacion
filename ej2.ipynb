{
 "cells": [
  {
   "cell_type": "markdown",
   "metadata": {},
   "source": [
    "# EJERCICIO 2\n",
    "# Clasificación de Imágenes"
   ]
  },
  {
   "cell_type": "markdown",
   "metadata": {},
   "source": [
    "## Librerías"
   ]
  },
  {
   "cell_type": "code",
   "execution_count": 1,
   "metadata": {},
   "outputs": [],
   "source": [
    "import cv2\n",
    "import os\n",
    "import numpy as np\n",
    "from matplotlib import pyplot as plt\n",
    "from random import sample\n",
    "from random import shuffle\n",
    "from math import ceil as techo\n",
    "from sklearn import svm\n",
    "from sklearn.neighbors import KNeighborsClassifier\n",
    "from sklearn.metrics import classification_report, accuracy_score \n",
    "from sklearn.linear_model import SGDClassifier\n",
    "from sklearn.model_selection import GridSearchCV, RepeatedKFold, StratifiedShuffleSplit\n",
    "from sklearn.ensemble import GradientBoostingClassifier"
   ]
  },
  {
   "cell_type": "markdown",
   "metadata": {},
   "source": [
    "## Funciones"
   ]
  },
  {
   "cell_type": "code",
   "execution_count": 2,
   "metadata": {},
   "outputs": [],
   "source": [
    "def CargaDatos(rutaObjects,verbose=False):\n",
    "    def ordenaDirectorio(directorio, extension=\"jpg\"):\n",
    "        return sorted([os.path.join(directorio, f) for f in os.listdir(directorio) if f.endswith(extension)])\n",
    "    animales = ['elephant', 'emu', 'flamingo', 'rhino']\n",
    "    \n",
    "    datos = {}\n",
    "    for animal in animales:\n",
    "        datos[animal] = ordenaDirectorio(f\"{rutaObjects}/images/{animal}\", extension=\"jpg\"), ordenaDirectorio(f\"{rutaObjects}/masks/{animal}\", extension=\"png\")\n",
    "\n",
    "    print('Cargando datos...')\n",
    "    if verbose:\n",
    "        for animal in datos:\n",
    "            print(f'\\nAnimal: {animal}')\n",
    "            for imagen, mascara in zip(datos[animal][0], datos[animal][1]):\n",
    "                print(f\"Imagen: {os.path.basename(imagen)}, Máscara: {os.path.basename(mascara)}\")\n",
    "    return datos\n",
    "#####################\n",
    "def recortadoAleatorio(pixeles, minimo):\n",
    "    indices = sorted(sample(range(len(pixeles)),minimo))\n",
    "    return np.array([pixeles[indice] for indice in indices]).flatten()\n",
    "####################\n",
    "def desordena(X,Y):\n",
    "    temp = list(zip(X, Y))\n",
    "    shuffle(temp)\n",
    "    return zip(*temp)\n",
    "    \n",
    "\n",
    "#########################\n",
    "def procesaImagen(imagen, mascara,numPixeles):\n",
    "    def haz_histograma(pixeles):\n",
    "        return np.array([np.histogram(pixelesEnMascara[:,color],bins=np.arange(256))[0] for color in range(3)]).flatten(order='F')\n",
    "    \n",
    "    imagen = cv2.imread(imagen)\n",
    "    imagen = cv2.resize(imagen, (tamano[1],tamano[0])) # si lo pongo tal cual y luego hago imagen.shape devuelve (300, 200)\n",
    "\n",
    "    mascara = cv2.imread(mascara, cv2.IMREAD_GRAYSCALE)\n",
    "    mascara = cv2.resize(mascara, (tamano[1],tamano[0]))\n",
    "        \n",
    "    mascaraBinaria = mascara = (mascara > 0).astype(bool)  # Binarizar la máscara\n",
    "    \n",
    "    #imagen = cv2.Sobel(imagen, -1,1,0,ksize=3)    MALOS RESULTADOS   \n",
    "    imagen = cv2.GaussianBlur(255 - imagen, (0, 0), 2, 2)\n",
    "    \n",
    "    pixelesEnMascara = np.reshape(np.array([np.array(imagen[i][j]) for i in range(tamano[0]) for j in range(tamano[1]) if mascaraBinaria[i][j]]),(sum(sum(mascaraBinaria)),3))\n",
    "    histograma = haz_histograma(pixelesEnMascara)\n",
    "    algunosPixeles = recortadoAleatorio(pixelesEnMascara,numPixeles)\n",
    "   \n",
    "    if numPixeles:\n",
    "        return [*histograma, *algunosPixeles]\n",
    "    else:\n",
    "        return [*histograma]\n",
    "###########################\n",
    "def construyeDataset(datos,numPixeles, balancear=True):\n",
    "    \n",
    "    X = []\n",
    "    Y = []\n",
    "    factorMultiplicativo = 1\n",
    "\n",
    "    print('Procesando datos...')\n",
    "    for i in range(factorMultiplicativo):\n",
    "        for animal in datos:\n",
    "            print(f'\\nAnimal: {animal}')\n",
    "            for imagen, mascara in zip(datos[animal][0], datos[animal][1]):\n",
    "                # Cargar y redimensionar imagen\n",
    "                \n",
    "                X.append(procesaImagen(imagen, mascara,numPixeles))\n",
    "\n",
    "                if animal == 'elephant':\n",
    "                    Y.append('E')\n",
    "                elif animal == 'rhino':\n",
    "                    Y.append('R')\n",
    "                else:\n",
    "                    Y.append('O') # la O de Otros\n",
    "    \n",
    "    X = np.array(X)\n",
    "\n",
    "    if balancear:\n",
    "        X = list(X)\n",
    "        Y = list(Y)\n",
    "        nummin = min(Y.count('R'), Y.count('E'), Y.count('O'))\n",
    "        contador = {'R': 0, 'E': 0, 'O': 0}\n",
    "        for i, clase in reversed(list(enumerate(Y))): # lo hago de atras hacia delante porque si borro por ejemplo el indice 127 luego al borrar el indice, por ejemplo, 233, reamente estoy borrando el 234\n",
    "            contador[clase] += 1\n",
    "            #print(i,clase,nummin, contador[clase])\n",
    "            if contador[clase] > nummin:\n",
    "                 #print('X')\n",
    "                 del X[i], Y[i]   \n",
    "    return X, Y\n",
    "\n",
    "def separaEntrenamientoTest(X,Y, razon=0.8):\n",
    "    X, Y = desordena(X, Y)\n",
    "    \n",
    "    X_entrenamiento = X[:techo(len(X)*razon) ]\n",
    "    X_test =          X[ techo(len(X)*razon):]\n",
    "    Y_entrenamiento = Y[:techo(len(X)*razon) ]\n",
    "    Y_test =          Y[ techo(len(X)*razon):]\n",
    "    return X_entrenamiento, Y_entrenamiento, X_test, Y_test"
   ]
  },
  {
   "cell_type": "markdown",
   "metadata": {},
   "source": [
    "## Código Principal"
   ]
  },
  {
   "cell_type": "code",
   "execution_count": 3,
   "metadata": {},
   "outputs": [
    {
     "name": "stdout",
     "output_type": "stream",
     "text": [
      "Cargando datos...\n",
      "Procesando datos...\n",
      "\n",
      "Animal: elephant\n",
      "\n",
      "Animal: emu\n",
      "\n",
      "Animal: flamingo\n",
      "\n",
      "Animal: rhino\n"
     ]
    }
   ],
   "source": [
    "tamano = (200, 300)\n",
    "datos = CargaDatos('../objects')\n",
    "X, Y = construyeDataset(datos,numPixeles=1500, balancear=True)"
   ]
  },
  {
   "cell_type": "markdown",
   "metadata": {},
   "source": [
    "# Knn"
   ]
  },
  {
   "cell_type": "code",
   "execution_count": 9,
   "metadata": {},
   "outputs": [
    {
     "name": "stdout",
     "output_type": "stream",
     "text": [
      "              precision    recall  f1-score   support\n",
      "\n",
      "           E       0.79      0.58      0.67        19\n",
      "           O       0.79      0.88      0.83        17\n",
      "           R       0.55      0.65      0.59        17\n",
      "\n",
      "    accuracy                           0.70        53\n",
      "   macro avg       0.71      0.70      0.70        53\n",
      "weighted avg       0.71      0.70      0.70        53\n",
      "\n"
     ]
    }
   ],
   "source": [
    "X_entrenamiento, Y_entrenamiento, X_test, Y_test = separaEntrenamientoTest(X,Y,razon=0.7)\n",
    "modelo_knn=KNeighborsClassifier(n_neighbors=7)\n",
    "modelo_knn.fit(X_entrenamiento,Y_entrenamiento)\n",
    "Y_predicho = modelo_knn.predict(X_test)\n",
    "print(classification_report(Y_test,Y_predicho))"
   ]
  },
  {
   "cell_type": "markdown",
   "metadata": {},
   "source": [
    "# Svm\n",
    "## rbf"
   ]
  },
  {
   "cell_type": "code",
   "execution_count": 35,
   "metadata": {},
   "outputs": [
    {
     "name": "stdout",
     "output_type": "stream",
     "text": [
      "              precision    recall  f1-score   support\n",
      "\n",
      "           E       0.42      0.47      0.44        17\n",
      "           O       0.94      0.94      0.94        17\n",
      "           R       0.53      0.47      0.50        19\n",
      "\n",
      "    accuracy                           0.62        53\n",
      "   macro avg       0.63      0.63      0.63        53\n",
      "weighted avg       0.63      0.62      0.62        53\n",
      "\n"
     ]
    }
   ],
   "source": [
    "modelo_svm = svm.SVC(kernel='rbf')\n",
    "modelo_svm.fit(X_entrenamiento,Y_entrenamiento)\n",
    "Y_predicho = modelo_svm.predict(X_test)\n",
    "print(classification_report(Y_test,Y_predicho))"
   ]
  },
  {
   "cell_type": "markdown",
   "metadata": {},
   "source": [
    "## Validación cruzada"
   ]
  },
  {
   "cell_type": "code",
   "execution_count": 11,
   "metadata": {
    "scrolled": true
   },
   "outputs": [
    {
     "name": "stdout",
     "output_type": "stream",
     "text": [
      "Acuracy de 66.18 ± 1.06\n"
     ]
    },
    {
     "data": {
      "image/png": "[encoded data removed]",
      "text/plain": [
       "<Figure size 1000x500 with 1 Axes>"
      ]
     },
     "metadata": {},
     "output_type": "display_data"
    }
   ],
   "source": [
    "acuracis = []\n",
    "for i in range(500):\n",
    "    X_entrenamiento, Y_entrenamiento, X_test, Y_test = separaEntrenamientoTest(X,Y,razon=0.9)\n",
    "    modelo_svm = svm.SVC(kernel='rbf',gamma=1e-7)\n",
    "    modelo_svm.fit(X_entrenamiento,Y_entrenamiento)\n",
    "    Y_predicho = modelo_svm.predict(X_test)\n",
    "    acuracis.append(accuracy_score(Y_test,Y_predicho))\n",
    "\n",
    "\n",
    "media = round(np.mean(acuracis)*100,2)\n",
    "sigma = round(np.sqrt(np.var(acuracis)*100),2)\n",
    "\n",
    "plt.figure(figsize = (10, 5))\n",
    "plt.axvline(x = .5, color = '#8fbcbb',label='0.5')\n",
    "plt.axvline(x = media/100, color = '#81a1c1',label='media de accuracy')\n",
    "\n",
    "plt.hist(acuracis,color='#4c566a')\n",
    "plt.legend()\n",
    "\n",
    "print(f'Acuracy de {media} ± {sigma}')"
   ]
  }
 ],
 "metadata": {
  "kernelspec": {
   "display_name": "entornoPvc",
   "language": "python",
   "name": "entornopvc"
  },
  "language_info": {
   "codemirror_mode": {
    "name": "ipython",
    "version": 3
   },
   "file_extension": ".py",
   "mimetype": "text/x-python",
   "name": "python",
   "nbconvert_exporter": "python",
   "pygments_lexer": "ipython3",
   "version": "3.11.0"
  }
 },
 "nbformat": 4,
 "nbformat_minor": 4
}
