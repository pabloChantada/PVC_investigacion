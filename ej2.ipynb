{
 "cells": [
  {
   "cell_type": "markdown",
   "metadata": {},
   "source": [
    "Desarrollar un método computacional que, a partir de una img (y opcionalmente su máscara\n",
    "de recorte), permita:\n",
    "Identificar las imágenes que pertenecen a las categorı́as : “elephant” y “rhino”.\n",
    "Proporcionar una evaluación cuantitativa adecuada de la identificaciones correspondientes\n",
    "\n",
    "Es decir, clasificar cada img, considerando caracterı́sticas integradas para toda la img, región recortada y/o contorno, entre, por ejemplo, clase objetivo y resto"
   ]
  },
  {
   "cell_type": "code",
   "execution_count": null,
   "metadata": {},
   "outputs": [],
   "source": [
    "import cv2\n",
    "from matplotlib import pyplot as plt\n",
    "from random import sample"
   ]
  },
  {
   "cell_type": "markdown",
   "metadata": {},
   "source": [
    "Primero cargaremos las imagenes y las etiquetas. Como queremos diferenciar entre elefantes y rinocerontes, no nos vale la pena esforzarnos en distinguir si es un emu o un flamenco, entonces todo lo que no nos interese sera 'otros'. En una primera instancia no considereremos las máscaras de esta forma $X$ serán todas las imágenes e $Y$ sera la etiqueta asociada de entre {'rinoceronte', 'elefante', 'otros'}."
   ]
  },
  {
   "cell_type": "code",
   "execution_count": null,
   "metadata": {},
   "outputs": [],
   "source": [
    "import glob\n",
    "import skimage.io as io\n",
    "import skimage.transform as tr\n",
    "import matplotlib.pyplot as plt\n",
    "import numpy as np\n",
    "\n",
    "elefante = glob.glob(\"../objects/images/elephant/*.jpg\") # rutas\n",
    "rino = glob.glob(\"../objects/images/rhino/*.jpg\")\n",
    "emu = glob.glob(\"../objects/images/emu/*.jpg\")\n",
    "flamingo = glob.glob(\"../objects/images/flamingo/*.jpg\")\n",
    "otros = [*emu, *flamingo]\n",
    "\n",
    "elefante = [io.imread(i) for i in elefante] #imageneoos\n",
    "rino = [io.imread(i) for i in rino]\n",
    "otros = [io.imread(i) for i in otros]\n",
    "\n",
    "\n",
    "plt.figure(figsize=(12,8))\n",
    "plt.subplot(131)\n",
    "plt.imshow(elefante[0])\n",
    "plt.title(\"elefante\")\n",
    "plt.axis(\"off\")\n",
    "\n",
    "plt.subplot(132)\n",
    "plt.imshow(rino[0])\n",
    "plt.title(\"rino\")\n",
    "plt.axis(\"off\")\n",
    "\n",
    "plt.subplot(133)\n",
    "plt.imshow(otros[0])\n",
    "plt.title(\"otros\")\n",
    "plt.axis(\"off\")\n",
    "\n",
    "plt.show()"
   ]
  },
  {
   "cell_type": "code",
   "execution_count": null,
   "metadata": {},
   "outputs": [],
   "source": [
    "mascaraElefante = glob.glob(\"../objects/masks/elephant/*.png\")\n",
    "mascaraElefante = [io.imread(i) for i in mascaraElefante]"
   ]
  },
  {
   "cell_type": "code",
   "execution_count": null,
   "metadata": {},
   "outputs": [],
   "source": [
    "mascaraElefante[0] = tr.resize(mascaraElefante[0],(elefante[0].shape[0],elefante[0].shape[1]))"
   ]
  },
  {
   "cell_type": "code",
   "execution_count": null,
   "metadata": {},
   "outputs": [],
   "source": [
    "capa = np.array(mascaraElefante[0] > 0.5,dtype=np.uint8)"
   ]
  },
  {
   "cell_type": "code",
   "execution_count": null,
   "metadata": {},
   "outputs": [],
   "source": [
    "capa = [[[capa[i][j],capa[i][j],capa[i][j]] for j in range(capa.shape[1])] for i in range(capa.shape[0])]"
   ]
  },
  {
   "cell_type": "code",
   "execution_count": null,
   "metadata": {},
   "outputs": [],
   "source": [
    "capa;"
   ]
  },
  {
   "cell_type": "code",
   "execution_count": null,
   "metadata": {},
   "outputs": [],
   "source": [
    "#np.multiply(capa,elefante[0])\n",
    "verdad = np.resizenp.array(mascaraElefante[0] > 0.5,dtype=np.uint8)\n",
    "for i in range(elefante[0].shape)"
   ]
  },
  {
   "cell_type": "code",
   "execution_count": null,
   "metadata": {},
   "outputs": [],
   "source": [
    "elefante[0][] = 0"
   ]
  },
  {
   "cell_type": "code",
   "execution_count": null,
   "metadata": {},
   "outputs": [],
   "source": [
    "elefante[0].shape, mascaraElefante[0].shape"
   ]
  },
  {
   "cell_type": "code",
   "execution_count": null,
   "metadata": {},
   "outputs": [],
   "source": [
    "plt.imshow(elefante[0])"
   ]
  },
  {
   "cell_type": "code",
   "execution_count": null,
   "metadata": {},
   "outputs": [],
   "source": [
    "# primero cargaremos las imagenes, las etiquetas y eventualmente las máscaras\n",
    "# como queremos diferenciar entre elefantes y rinocerontes, no nos vale la pena esforzarnos\n",
    "# en distinguir si es un emu o un flamenco, entonces todo lo que no nos interese sera 'otros'\n",
    "\n",
    "# en una primera instancia no considereremos las máscaras\n",
    "# de esta forma X serán todas las imágenes e Y sera la etiqueta asociada"
   ]
  },
  {
   "cell_type": "code",
   "execution_count": null,
   "metadata": {},
   "outputs": [],
   "source": [
    "# ahora armamos X e Y\n",
    "\n",
    "X = [*elefante, *rino, *otros]\n",
    "Y =  [*['elefante']*len(elefante), *['rino']*len(rino), *['otros']*len(otros)]"
   ]
  },
  {
   "cell_type": "code",
   "execution_count": null,
   "metadata": {},
   "outputs": [],
   "source": [
    "# como hay imagenes en blanco y negro y en color, y eso supone diferencias de tamaño, voy a \n",
    "# tridimensionalizar las imagenes en blanco y negro. Triplicando la información que contienen.\n",
    "\n",
    "def Tridimensionaliza(imagen):\n",
    "    return np.array([[[imagen[i][j],imagen[i][j],imagen[i][j]] for i in range(np.shape(imagen)[0])] for j in range(np.shape(imagen)[1])])\n",
    "\n",
    "# ademas, pasamos todos los elementos de X a arrays de numpy\n",
    "X = [np.array(imagen) if len(np.shape(imagen)) == 3  else Tridimensionaliza(imagen) for imagen in X ] "
   ]
  },
  {
   "cell_type": "code",
   "execution_count": null,
   "metadata": {},
   "outputs": [],
   "source": [
    "# (como simple demostracion de que lo anterior es correcto..\n",
    "from random import randint as r\n",
    "\n",
    "indice = r(0,len(X))\n",
    "\n",
    "plt.imshow(X[indice])\n",
    "plt.title(Y[indice])\n",
    "plt.show()\n",
    "# ...si al ejecutar, el titulo se corresponde con la imagen es que X e Y estan construidos segun nuestro deseo)"
   ]
  },
  {
   "cell_type": "code",
   "execution_count": null,
   "metadata": {},
   "outputs": [],
   "source": [
    "from math import ceil as techo\n",
    "from random import shuffle as s\n",
    "\n",
    "# Como cada imagen mide distinto las hacemos todas iguales. Además, las aplanamos\n",
    "\n",
    "X = [np.array(tr.resize(i,(300,200))).flatten() for i in X]\n",
    "\n",
    "# Para que nuestras conclusiones sean rigurosas, debemos O usar el error de validación O usar\n",
    "# una partición de los datos en Entrenamiento y Test. Prodemos con la opción de test\n",
    "\n",
    "\n",
    "# primero tendremos que desordenarlas, porque si le pasamos solo el final, tendra\n",
    "# que clasificar exclusivamente 'otros' lo cual no nos interesa\n",
    "\n",
    "temp = list(zip(X, Y))\n",
    "s(temp)\n",
    "X, Y = zip(*temp)\n",
    "\n",
    "\n",
    "X_entrenamiento = X[:techo(len(X)*.8) ]\n",
    "X_test =          X[ techo(len(X)*.8):]\n",
    "Y_entrenamiento = Y[:techo(len(X)*.8) ]\n",
    "Y_test =          Y[ techo(len(X)*.8):]"
   ]
  },
  {
   "cell_type": "code",
   "execution_count": null,
   "metadata": {},
   "outputs": [],
   "source": []
  },
  {
   "cell_type": "markdown",
   "metadata": {},
   "source": [
    "## Momento de entrenar"
   ]
  },
  {
   "cell_type": "markdown",
   "metadata": {},
   "source": [
    "Como en el enunciado de la práctica no se entra en detalle de que algoritmo usar... lo científico por nuestra parte es probar los que nos _tengan sentido_ y ver cual da mejor resultado. Como primer intento, probaremos con KNN..."
   ]
  },
  {
   "cell_type": "markdown",
   "metadata": {},
   "source": [
    "## Primer intento, sin mascaras con KNN"
   ]
  },
  {
   "cell_type": "code",
   "execution_count": null,
   "metadata": {},
   "outputs": [],
   "source": [
    "from sklearn.neighbors import KNeighborsClassifier\n",
    "from sklearn.metrics import classification_report\n",
    "\n",
    "# que k usamos? vamos a ver cuantos datos tenemos\n",
    "#\n",
    "# $ print(f'hay {len(elefante)} elefantes y {len(rino)} rinocerontes')\n",
    "# -> hay 64 elefantes y 59 rinocerontes\n",
    "#\n",
    "# usaremos un K de entorno a 50, por tanto (prepiero que descuide algunos \n",
    "# de su misma clase que que considere algunos de otras clases)\n",
    "\n",
    "knn=KNeighborsClassifier(n_neighbors=50)\n",
    "knn.fit(X_entrenamiento,Y_entrenamiento)\n",
    "Y_predicho = knn.predict(X_test)\n",
    "print(classification_report(Y_predicho,Y_test))"
   ]
  },
  {
   "cell_type": "code",
   "execution_count": null,
   "metadata": {},
   "outputs": [],
   "source": [
    "# Malos resultados, pero curiosamente donde mejores resultados\n",
    "# hubo fue en 'otros'. Vamos a probar a repetir todo pero sin 'otros'"
   ]
  },
  {
   "cell_type": "markdown",
   "metadata": {},
   "source": [
    "## Segundo intento, sin mascaras con KNN y sin _otros_"
   ]
  },
  {
   "cell_type": "code",
   "execution_count": null,
   "metadata": {},
   "outputs": [],
   "source": [
    "X = [*elefante, *rino]\n",
    "Y =  [*['elefante']*len(elefante), *['rino']*len(rino)]\n",
    "\n",
    "temp = list(zip(X, Y))\n",
    "s(temp)\n",
    "X, Y = zip(*temp)\n",
    "\n",
    "\n",
    "X = [np.array(imagen) if len(np.shape(imagen)) == 3  else Tridimensionaliza(imagen) for imagen in X ] \n",
    "\n",
    "X = [np.array(tr.resize(i,(300,200))).flatten() for i in X]\n",
    "\n",
    "X_entrenamiento = X[:techo(len(X)*.8) ]\n",
    "X_test =          X[ techo(len(X)*.8):]\n",
    "Y_entrenamiento = Y[:techo(len(X)*.8) ]\n",
    "Y_test =          Y[ techo(len(X)*.8):]\n",
    "\n",
    "knn=KNeighborsClassifier(n_neighbors=50)\n",
    "knn.fit(X_entrenamiento,Y_entrenamiento)\n",
    "Y_predicho = knn.predict(X_test)\n",
    "print(classification_report(Y_predicho,Y_test))"
   ]
  },
  {
   "cell_type": "markdown",
   "metadata": {},
   "source": [
    "Observamos una mejora en los resultados, pero porque ahora la tarea es mucho más sencilla. Un modelo que no sepa nada acertaria en la mitad de las ocasiones."
   ]
  },
  {
   "cell_type": "code",
   "execution_count": null,
   "metadata": {},
   "outputs": [],
   "source": [
    "\n",
    "# recomendación joaquim \n",
    "# pintar matriz confusionb"
   ]
  },
  {
   "cell_type": "markdown",
   "metadata": {},
   "source": [
    "# EJERCICIO 2\n",
    "# Clasificación de Imágenes"
   ]
  },
  {
   "cell_type": "markdown",
   "metadata": {},
   "source": [
    "## Librerías"
   ]
  },
  {
   "cell_type": "code",
   "execution_count": 1,
   "metadata": {},
   "outputs": [],
   "source": [
    "import cv2\n",
    "import os\n",
    "import numpy as np\n",
    "from matplotlib import pyplot as plt\n",
    "from random import sample\n",
    "from random import shuffle\n",
    "from math import ceil as techo\n",
    "from sklearn import svm\n",
    "from sklearn.neighbors import KNeighborsClassifier\n",
    "from sklearn.metrics import classification_report, accuracy_score \n",
    "from sklearn.linear_model import SGDClassifier\n",
    "from sklearn.model_selection import GridSearchCV, RepeatedKFold, StratifiedShuffleSplit\n",
    "from sklearn.ensemble import GradientBoostingClassifier"
   ]
  },
  {
   "cell_type": "markdown",
   "metadata": {},
   "source": [
    "## Funciones"
   ]
  },
  {
   "cell_type": "code",
   "execution_count": 32,
   "metadata": {},
   "outputs": [],
   "source": [
    "def CargaDatos(rutaObjects,verbose=False):\n",
    "    def ordenaDirectorio(directorio, extension=\"jpg\"):\n",
    "        return sorted([os.path.join(directorio, f) for f in os.listdir(directorio) if f.endswith(extension)])\n",
    "    animales = ['elephant', 'emu', 'flamingo', 'rhino']\n",
    "    \n",
    "    datos = {}\n",
    "    for animal in animales:\n",
    "        datos[animal] = ordenaDirectorio(f\"{rutaObjects}/images/{animal}\", extension=\"jpg\"), ordenaDirectorio(f\"{rutaObjects}/masks/{animal}\", extension=\"png\")\n",
    "\n",
    "    print('Cargando datos...')\n",
    "    if verbose:\n",
    "        for animal in datos:\n",
    "            print(f'\\nAnimal: {animal}')\n",
    "            for imagen, mascara in zip(datos[animal][0], datos[animal][1]):\n",
    "                print(f\"Imagen: {os.path.basename(imagen)}, Máscara: {os.path.basename(mascara)}\")\n",
    "    return datos\n",
    "#####################\n",
    "def recortadoAleatorio(pixeles, minimo):\n",
    "    indices = sorted(sample(range(len(pixeles)),minimo))\n",
    "    return np.array([pixeles[indice] for indice in indices]).flatten()\n",
    "####################\n",
    "def desordena(X,Y):\n",
    "    temp = list(zip(X, Y))\n",
    "    shuffle(temp)\n",
    "    return zip(*temp)\n",
    "    \n",
    "\n",
    "#########################\n",
    "def procesaImagen(imagen, mascara,numPixeles):\n",
    "    def haz_histograma(pixeles):\n",
    "        return np.array([np.histogram(pixelesEnMascara[:,color],bins=np.arange(256))[0] for color in range(3)]).flatten(order='F')\n",
    "    \n",
    "    imagen = cv2.imread(imagen)\n",
    "    imagen = cv2.resize(imagen, (tamano[1],tamano[0])) # si lo pongo tal cual y luego hago imagen.shape devuelve (300, 200)\n",
    "\n",
    "    mascara = cv2.imread(mascara, cv2.IMREAD_GRAYSCALE)\n",
    "    mascara = cv2.resize(mascara, (tamano[1],tamano[0]))\n",
    "        \n",
    "    mascaraBinaria = mascara = (mascara > 0).astype(bool)  # Binarizar la máscara\n",
    "    \n",
    "    #imagen = cv2.Sobel(imagen, -1,1,0,ksize=3)    MALOS RESULTADOS   \n",
    "    imagen = cv2.GaussianBlur(255 - imagen, (0, 0), 2, 2)\n",
    "    \n",
    "    pixelesEnMascara = np.reshape(np.array([np.array(imagen[i][j]) for i in range(tamano[0]) for j in range(tamano[1]) if mascaraBinaria[i][j]]),(sum(sum(mascaraBinaria)),3))\n",
    "    histograma = haz_histograma(pixelesEnMascara)\n",
    "    algunosPixeles = recortadoAleatorio(pixelesEnMascara,numPixeles)\n",
    "   \n",
    "    if numPixeles:\n",
    "        return [*histograma, *algunosPixeles]\n",
    "    else:\n",
    "        return [*histograma]\n",
    "###########################\n",
    "def construyeDataset(datos,numPixeles, balancear=True):\n",
    "    \n",
    "    X = []\n",
    "    Y = []\n",
    "    factorMultiplicativo = 1\n",
    "\n",
    "    print('Procesando datos...')\n",
    "    for i in range(factorMultiplicativo):\n",
    "        for animal in datos:\n",
    "            print(f'\\nAnimal: {animal}')\n",
    "            for imagen, mascara in zip(datos[animal][0], datos[animal][1]):\n",
    "                # Cargar y redimensionar imagen\n",
    "                \n",
    "                X.append(procesaImagen(imagen, mascara,numPixeles))\n",
    "\n",
    "                if animal == 'elephant':\n",
    "                    Y.append('E')\n",
    "                elif animal == 'rhino':\n",
    "                    Y.append('R')\n",
    "                else:\n",
    "                    Y.append('O') # la O de Otros\n",
    "    \n",
    "    X = np.array(X)\n",
    "\n",
    "    if balancear:\n",
    "        X = list(X)\n",
    "        Y = list(Y)\n",
    "        nummin = min(Y.count('R'), Y.count('E'), Y.count('O'))\n",
    "        contador = {'R': 0, 'E': 0, 'O': 0}\n",
    "        for i, clase in reversed(list(enumerate(Y))): # lo hago de atras hacia delante porque si borro por ejemplo el indice 127 luego al borrar el indice, por ejemplo, 233, reamente estoy borrando el 234\n",
    "            contador[clase] += 1\n",
    "            #print(i,clase,nummin, contador[clase])\n",
    "            if contador[clase] > nummin:\n",
    "                 #print('X')\n",
    "                 del X[i], Y[i]   \n",
    "    return X, Y\n",
    "\n",
    "def separaEntrenamientoTest(X,Y, razon=0.8):\n",
    "    X, Y = desordena(X, Y)\n",
    "    \n",
    "    X_entrenamiento = X[:techo(len(X)*razon) ]\n",
    "    X_test =          X[ techo(len(X)*razon):]\n",
    "    Y_entrenamiento = Y[:techo(len(X)*razon) ]\n",
    "    Y_test =          Y[ techo(len(X)*razon):]\n",
    "    return X_entrenamiento, Y_entrenamiento, X_test, Y_test"
   ]
  },
  {
   "cell_type": "markdown",
   "metadata": {},
   "source": [
    "## Código Principal"
   ]
  },
  {
   "cell_type": "code",
   "execution_count": 33,
   "metadata": {},
   "outputs": [
    {
     "name": "stdout",
     "output_type": "stream",
     "text": [
      "Cargando datos...\n",
      "Procesando datos...\n",
      "\n",
      "Animal: elephant\n",
      "\n",
      "Animal: emu\n",
      "\n",
      "Animal: flamingo\n",
      "\n",
      "Animal: rhino\n"
     ]
    }
   ],
   "source": [
    "tamano = (200, 300)\n",
    "datos = CargaDatos('../objects')\n",
    "X, Y = construyeDataset(datos,numPixeles=1500, balancear=True)"
   ]
  },
  {
   "cell_type": "code",
   "execution_count": 34,
   "metadata": {},
   "outputs": [],
   "source": [
    "X_entrenamiento, Y_entrenamiento, X_test, Y_test = separaEntrenamientoTest(X,Y,razon=0.7)"
   ]
  },
  {
   "cell_type": "markdown",
   "metadata": {},
   "source": [
    "# Svm\n",
    "## rbf"
   ]
  },
  {
   "cell_type": "code",
   "execution_count": 35,
   "metadata": {},
   "outputs": [
    {
     "name": "stdout",
     "output_type": "stream",
     "text": [
      "              precision    recall  f1-score   support\n",
      "\n",
      "           E       0.42      0.47      0.44        17\n",
      "           O       0.94      0.94      0.94        17\n",
      "           R       0.53      0.47      0.50        19\n",
      "\n",
      "    accuracy                           0.62        53\n",
      "   macro avg       0.63      0.63      0.63        53\n",
      "weighted avg       0.63      0.62      0.62        53\n",
      "\n"
     ]
    }
   ],
   "source": [
    "modelo_svm = svm.SVC(kernel='rbf')\n",
    "modelo_svm.fit(X_entrenamiento,Y_entrenamiento)\n",
    "Y_predicho = modelo_svm.predict(X_test)\n",
    "print(classification_report(Y_test,Y_predicho))"
   ]
  },
  {
   "cell_type": "markdown",
   "metadata": {},
   "source": [
    "## Validación cruzada"
   ]
  },
  {
   "cell_type": "code",
   "execution_count": 36,
   "metadata": {
    "scrolled": true
   },
   "outputs": [
    {
     "name": "stdout",
     "output_type": "stream",
     "text": [
      "Acuracy de 65.21 ± 1.13\n"
     ]
    },
    {
     "data": {
      "image/png": "[encoded data removed]",
      "text/plain": [
       "<Figure size 1000x500 with 1 Axes>"
      ]
     },
     "metadata": {},
     "output_type": "display_data"
    }
   ],
   "source": [
    "acuracis = []\n",
    "for i in range(200):\n",
    "    X_entrenamiento, Y_entrenamiento, X_test, Y_test = separaEntrenamientoTest(X,Y,razon=0.9)\n",
    "    modelo_svm = svm.SVC(kernel='rbf',gamma=1e-7)\n",
    "    modelo_svm.fit(X_entrenamiento,Y_entrenamiento)\n",
    "    Y_predicho = modelo_svm.predict(X_test)\n",
    "    acuracis.append(accuracy_score(Y_test,Y_predicho))\n",
    "\n",
    "plt.figure(figsize = (10, 5))\n",
    "plt.axvline(x = .5, color = 'r')\n",
    " \n",
    "plt.hist(acuracis)\n",
    "\n",
    "print(f'Acuracy de {round(np.mean(acuracis)*100,2)} ± {round(np.var(acuracis)*100,2)}')"
   ]
  },
  {
   "cell_type": "code",
   "execution_count": null,
   "metadata": {},
   "outputs": [],
   "source": []
  },
  {
   "cell_type": "code",
   "execution_count": null,
   "metadata": {},
   "outputs": [],
   "source": []
  },
  {
   "cell_type": "code",
   "execution_count": null,
   "metadata": {},
   "outputs": [],
   "source": []
  },
  {
   "cell_type": "code",
   "execution_count": null,
   "metadata": {},
   "outputs": [],
   "source": [
    "(otras cosas)"
   ]
  },
  {
   "cell_type": "code",
   "execution_count": null,
   "metadata": {},
   "outputs": [],
   "source": []
  },
  {
   "cell_type": "code",
   "execution_count": null,
   "metadata": {},
   "outputs": [],
   "source": []
  },
  {
   "cell_type": "code",
   "execution_count": null,
   "metadata": {},
   "outputs": [],
   "source": []
  },
  {
   "cell_type": "code",
   "execution_count": null,
   "metadata": {},
   "outputs": [],
   "source": []
  },
  {
   "cell_type": "code",
   "execution_count": null,
   "metadata": {},
   "outputs": [],
   "source": []
  },
  {
   "cell_type": "code",
   "execution_count": null,
   "metadata": {},
   "outputs": [],
   "source": []
  },
  {
   "cell_type": "markdown",
   "metadata": {},
   "source": [
    "# Knn"
   ]
  },
  {
   "cell_type": "code",
   "execution_count": null,
   "metadata": {},
   "outputs": [],
   "source": [
    "#Y_entrenamiento"
   ]
  },
  {
   "cell_type": "code",
   "execution_count": null,
   "metadata": {},
   "outputs": [],
   "source": [
    "modelo_knn=KNeighborsClassifier(n_neighbors=4)\n",
    "modelo_knn.fit(X_entrenamiento,Y_entrenamiento)\n",
    "Y_predicho = modelo_knn.predict(X_test)\n",
    "print(classification_report(Y_test,Y_predicho))"
   ]
  },
  {
   "cell_type": "code",
   "execution_count": null,
   "metadata": {
    "scrolled": true
   },
   "outputs": [],
   "source": [
    "'''\n",
    "vector = X_entrenamiento[4][:1200]\n",
    "vector = np.reshape(vector, (int(len(vector)/3),3))\n",
    "N = 3000\n",
    "#print(vector)\n",
    "vector = np.reshape([[i]*N for i in vector], (len(vector)*N,3))\n",
    "imagen = np.reshape([vector]*N,(len(vector),N,3))\n",
    "plt.imshow(imagen)\n",
    "vector, vector.shape, imagen[0],imagen[1], imagen.shape\n",
    "''';"
   ]
  },
  {
   "cell_type": "code",
   "execution_count": null,
   "metadata": {},
   "outputs": [],
   "source": [
    "C_range = np.logspace(0.1, 5, 50)\n",
    "gamma_range = np.logspace(0, 5, 50)\n",
    "param_grid = dict(gamma=gamma_range, C=C_range)\n",
    "cv = StratifiedShuffleSplit(n_splits=5, test_size=0.2, random_state=1312)\n",
    "grid = GridSearchCV(svm.SVC(kernel='rbf'), param_grid=param_grid, cv=cv)\n",
    "grid.fit(X, Y)\n",
    "\n",
    "print(\n",
    "    \"The best parameters are %s with a score of %0.2f\"\n",
    "    % (grid.best_params_, grid.best_score_)\n",
    ")"
   ]
  },
  {
   "cell_type": "code",
   "execution_count": null,
   "metadata": {},
   "outputs": [],
   "source": [
    "C_2d_range = [1e-2, 1, 1e2]\n",
    "gamma_2d_range = [1e-1, 1, 1e1]\n",
    "classifiers = []\n",
    "for C in C_2d_range:\n",
    "    for gamma in gamma_2d_range:\n",
    "        clf = SVC(C=C, gamma=gamma)\n",
    "        clf.fit(X, Y)\n",
    "        classifiers.append((C, gamma, clf))"
   ]
  },
  {
   "cell_type": "markdown",
   "metadata": {},
   "source": [
    "# Perdida Hinge"
   ]
  },
  {
   "cell_type": "code",
   "execution_count": null,
   "metadata": {},
   "outputs": [],
   "source": [
    "modelo_hinge = SGDClassifier(loss=\"hinge\", penalty=\"l2\", max_iter=500)\n",
    "modelo_hinge.fit(X_entrenamiento,Y_entrenamiento)\n",
    "Y_predicho = modelo_hinge.predict(X_test)\n",
    "print(classification_report(Y_test,Y_predicho))\n",
    "\n"
   ]
  },
  {
   "cell_type": "code",
   "execution_count": null,
   "metadata": {},
   "outputs": [],
   "source": [
    "modelo_hinge.predict(X_test[2].reshape(1, -1))\n"
   ]
  },
  {
   "cell_type": "code",
   "execution_count": null,
   "metadata": {},
   "outputs": [],
   "source": []
  },
  {
   "cell_type": "code",
   "execution_count": null,
   "metadata": {},
   "outputs": [],
   "source": []
  },
  {
   "cell_type": "code",
   "execution_count": null,
   "metadata": {},
   "outputs": [],
   "source": []
  },
  {
   "cell_type": "code",
   "execution_count": null,
   "metadata": {},
   "outputs": [],
   "source": []
  },
  {
   "cell_type": "markdown",
   "metadata": {},
   "source": [
    "Como frente a SVM y KNN ofrece _mejores_ resltados, vamos a inspeccionar un poco más este algoritmo."
   ]
  },
  {
   "cell_type": "code",
   "execution_count": null,
   "metadata": {},
   "outputs": [],
   "source": [
    "parametros = {'loss':('hinge', 'squared_hinge', 'log_loss'), 'max_iter':[15, 20, 25, 30, 40, 50]}\n",
    "modelo_hinge = SGDClassifier()\n",
    "modelo_hinge = GridSearchCV(modelo_hinge, parametros)\n",
    "modelo_hinge.fit(X_entrenamiento,Y_entrenamiento)\n",
    "\n",
    "print(\"Mejores Hiperparámetros: \", modelo_hinge.best_params_)\n",
    "modelo_hinge = SGDClassifier(loss=modelo_hinge.best_params_['loss'], penalty=\"l2\", max_iter=modelo_hinge.best_params_['max_iter'])\n",
    "modelo_hinge.fit(X_entrenamiento,Y_entrenamiento)\n",
    "Y_predicho = modelo_hinge.predict(X_test)\n",
    "print(classification_report(Y_test,Y_predicho))"
   ]
  },
  {
   "cell_type": "code",
   "execution_count": null,
   "metadata": {},
   "outputs": [],
   "source": [
    "modelo_hinge = SGDClassifier(loss=\"squared_hinge\", penalty=\"l2\", max_iter=50)\n",
    "modelo_hinge.fit(X_entrenamiento,Y_entrenamiento)\n",
    "Y_predicho = modelo_hinge.predict(X_test)\n",
    "print(classification_report(Y_test,Y_predicho))"
   ]
  },
  {
   "cell_type": "markdown",
   "metadata": {},
   "source": [
    "# Ensembles"
   ]
  },
  {
   "cell_type": "code",
   "execution_count": null,
   "metadata": {},
   "outputs": [],
   "source": [
    "modelo_boosting=GradientBoostingClassifier(n_estimators=50, learning_rate=.2, max_depth=50)\n",
    "modelo_boosting.fit(X_entrenamiento,Y_entrenamiento)\n",
    "Y_predicho = modelo_boosting.predict(X_test)\n",
    "print(classification_report(Y_test,Y_predicho))"
   ]
  },
  {
   "cell_type": "code",
   "execution_count": null,
   "metadata": {},
   "outputs": [],
   "source": []
  },
  {
   "cell_type": "markdown",
   "metadata": {},
   "source": [
    "# Selección de hiperparámetros"
   ]
  },
  {
   "cell_type": "code",
   "execution_count": null,
   "metadata": {
    "scrolled": true
   },
   "outputs": [],
   "source": [
    "parametros = {'loss':('hinge', 'squared_hinge', 'log_loss'), 'max_iter':[15, 20, 25, 30, 40, 50]}\n",
    "validacionCruzada = RepeatedKFold(n_splits=10, n_repeats=3, random_state=1)\n",
    "busqueda = GridSearchCV(estimator=modelo_hinge, param_grid=parametros, n_jobs=-1,cv=validacionCruzada, scoring='f1_weighted')\n",
    "resultados = busqueda.fit(X_entrenamiento, Y_entrenamiento)\n",
    "# extract the best model and evaluate it\n",
    "print(\"evaluando...\")\n",
    "modeloMejorado = resultados.best_estimator_\n",
    "print(\"R2: {:.2f}\".format(modeloMejorado.score(X_test, Y_test)))\n",
    "Y_predicho = modeloMejorado.predict(X_test)\n",
    "print(classification_report(Y_test,Y_predicho))"
   ]
  },
  {
   "cell_type": "code",
   "execution_count": null,
   "metadata": {},
   "outputs": [],
   "source": []
  },
  {
   "cell_type": "code",
   "execution_count": null,
   "metadata": {},
   "outputs": [],
   "source": [
    "plt.hist([len(i) for i in X],bins=25);"
   ]
  },
  {
   "cell_type": "code",
   "execution_count": null,
   "metadata": {},
   "outputs": [],
   "source": [
    "len(X[0])/3"
   ]
  },
  {
   "cell_type": "code",
   "execution_count": null,
   "metadata": {},
   "outputs": [],
   "source": [
    "\n",
    "# Prints list of random items of given length\n",
    "list1 = [1, 2, 3, 4, 5] \n",
    "\n",
    "print(sample(list1,8))"
   ]
  },
  {
   "cell_type": "code",
   "execution_count": null,
   "metadata": {},
   "outputs": [],
   "source": [
    "l = [2,4,6,7,5,3,2,5,3,6]\n",
    "del l[0], l[1]\n",
    "l"
   ]
  },
  {
   "cell_type": "code",
   "execution_count": null,
   "metadata": {},
   "outputs": [],
   "source": [
    "list(reversed(list(enumerate(l))))"
   ]
  },
  {
   "cell_type": "code",
   "execution_count": null,
   "metadata": {},
   "outputs": [],
   "source": []
  }
 ],
 "metadata": {
  "kernelspec": {
   "display_name": "entornoPvc",
   "language": "python",
   "name": "entornopvc"
  },
  "language_info": {
   "codemirror_mode": {
    "name": "ipython",
    "version": 3
   },
   "file_extension": ".py",
   "mimetype": "text/x-python",
   "name": "python",
   "nbconvert_exporter": "python",
   "pygments_lexer": "ipython3",
   "version": "3.11.0"
  }
 },
 "nbformat": 4,
 "nbformat_minor": 4
}
