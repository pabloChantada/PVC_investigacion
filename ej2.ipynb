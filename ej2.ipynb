{
 "cells": [
  {
   "cell_type": "markdown",
   "metadata": {},
   "source": [
    "# EJERCICIO 2\n",
    "# Clasificación de Imágenes"
   ]
  },
  {
   "cell_type": "markdown",
   "metadata": {},
   "source": [
    "## Librerías"
   ]
  },
  {
   "cell_type": "code",
   "execution_count": 1,
   "metadata": {},
   "outputs": [],
   "source": [
    "import cv2\n",
    "import os\n",
    "import numpy as np\n",
    "from matplotlib import pyplot as plt\n",
    "from random import sample\n",
    "from random import shuffle\n",
    "from math import ceil as techo\n",
    "from sklearn import svm\n",
    "from sklearn.neighbors import KNeighborsClassifier\n",
    "from sklearn.metrics import classification_report, accuracy_score \n",
    "from sklearn.linear_model import SGDClassifier\n",
    "from sklearn.model_selection import GridSearchCV, RepeatedKFold, StratifiedShuffleSplit\n",
    "from sklearn.ensemble import GradientBoostingClassifier"
   ]
  },
  {
   "cell_type": "markdown",
   "metadata": {},
   "source": [
    "## Funciones"
   ]
  },
  {
   "cell_type": "code",
   "execution_count": 2,
   "metadata": {},
   "outputs": [],
   "source": [
    "def CargaDatos(rutaObjects,verbose=False):\n",
    "    def ordenaDirectorio(directorio, extension=\"jpg\"):\n",
    "        return sorted([os.path.join(directorio, f) for f in os.listdir(directorio) if f.endswith(extension)])\n",
    "    animales = ['elephant', 'emu', 'flamingo', 'rhino']\n",
    "    \n",
    "    datos = {}\n",
    "    for animal in animales:\n",
    "        datos[animal] = ordenaDirectorio(f\"{rutaObjects}/images/{animal}\", extension=\"jpg\"), ordenaDirectorio(f\"{rutaObjects}/masks/{animal}\", extension=\"png\")\n",
    "\n",
    "    print('Cargando datos...')\n",
    "    if verbose:\n",
    "        for animal in datos:\n",
    "            print(f'\\nAnimal: {animal}')\n",
    "            for imagen, mascara in zip(datos[animal][0], datos[animal][1]):\n",
    "                print(f\"Imagen: {os.path.basename(imagen)}, Máscara: {os.path.basename(mascara)}\")\n",
    "    return datos\n",
    "#####################\n",
    "def recortadoAleatorio(pixeles, minimo):\n",
    "    indices = sorted(sample(range(len(pixeles)),minimo))\n",
    "    return np.array([pixeles[indice] for indice in indices]).flatten()\n",
    "####################\n",
    "def desordena(X,Y):\n",
    "    temp = list(zip(X, Y))\n",
    "    shuffle(temp)\n",
    "    return zip(*temp)\n",
    "    \n",
    "\n",
    "#########################\n",
    "def procesaImagen(imagen, mascara,numPixeles):\n",
    "    \n",
    "    def haz_histograma(pixeles):\n",
    "        return np.array([np.histogram(pixelesEnMascara[:,color],bins=np.arange(256))[0] for color in range(3)]).flatten(order='F')\n",
    "    \n",
    "    def MascaraGaussianoSobel(imagen,mascara):\n",
    "        imagen = np.reshape([imagen[i][j] * mascara[i][j] for i in range(tamano[0]) for j in range(tamano[1])],(tamano[0],tamano[1],3))\n",
    "        imagen = cv2.GaussianBlur(imagen, (0, 0), 2, 2)\n",
    "        return  cv2.Sobel(imagen, -1,1,0,ksize=3).flatten() \n",
    "\n",
    "    \n",
    "    \n",
    "    imagen = cv2.imread(imagen)\n",
    "    imagen = cv2.resize(imagen, (tamano[1],tamano[0])) # si lo pongo tal cual y luego hago imagen.shape devuelve (300, 200)\n",
    "\n",
    "    mascara = cv2.imread(mascara, cv2.IMREAD_GRAYSCALE)\n",
    "    mascara = cv2.resize(mascara, (tamano[1],tamano[0]))\n",
    "        \n",
    "    mascaraBinaria = mascara = (mascara > 0).astype(bool)  # Binarizar la máscara\n",
    "    \n",
    "    #imagen = cv2.Sobel(imagen, -1,1,0,ksize=3)    MALOS RESULTADOS   \n",
    "    #imagen = cv2.GaussianBlur(255 - imagen, (0, 0), 2, 2)\n",
    "    \n",
    "    pixelesEnMascara = np.reshape(np.array([np.array(imagen[i][j]) for i in range(tamano[0]) for j in range(tamano[1]) if mascaraBinaria[i][j]]),(sum(sum(mascaraBinaria)),3))\n",
    "    histograma = haz_histograma(pixelesEnMascara)\n",
    "    algunosPixeles = recortadoAleatorio(pixelesEnMascara,numPixeles)\n",
    "   \n",
    "    if numPixeles:\n",
    "        return [*histograma, *algunosPixeles, *MascaraGaussianoSobel(imagen,mascara)]\n",
    "    else:\n",
    "        return [*histograma]\n",
    "###########################\n",
    "def construyeDataset(datos,numPixeles, balancear=True):\n",
    "    \n",
    "    X = []\n",
    "    Y = []\n",
    "    factorMultiplicativo = 1\n",
    "\n",
    "    print('Procesando datos...')\n",
    "    for i in range(factorMultiplicativo):\n",
    "        for animal in datos:\n",
    "            print(f'\\nAnimal: {animal}')\n",
    "            for imagen, mascara in zip(datos[animal][0], datos[animal][1]):\n",
    "                # Cargar y redimensionar imagen\n",
    "                \n",
    "                X.append(procesaImagen(imagen, mascara,numPixeles))\n",
    "\n",
    "                if animal == 'elephant':\n",
    "                    Y.append('E')\n",
    "                elif animal == 'rhino':\n",
    "                    Y.append('R')\n",
    "                else:\n",
    "                    Y.append('O') # la O de Otros\n",
    "    \n",
    "    X = np.array(X)\n",
    "\n",
    "    if balancear:\n",
    "        X = list(X)\n",
    "        Y = list(Y)\n",
    "        nummin = min(Y.count('R'), Y.count('E'), Y.count('O'))\n",
    "        contador = {'R': 0, 'E': 0, 'O': 0}\n",
    "        for i, clase in reversed(list(enumerate(Y))): # lo hago de atras hacia delante porque si borro por ejemplo el indice 127 luego al borrar el indice, por ejemplo, 233, reamente estoy borrando el 234\n",
    "            contador[clase] += 1\n",
    "            #print(i,clase,nummin, contador[clase])\n",
    "            if contador[clase] > nummin:\n",
    "                 #print('X')\n",
    "                 del X[i], Y[i]   \n",
    "    return X, Y\n",
    "\n",
    "def separaEntrenamientoTest(X,Y, razon=0.8):\n",
    "    X, Y = desordena(X, Y)\n",
    "    \n",
    "    X_entrenamiento = X[:techo(len(X)*razon) ]\n",
    "    X_test =          X[ techo(len(X)*razon):]\n",
    "    Y_entrenamiento = Y[:techo(len(X)*razon) ]\n",
    "    Y_test =          Y[ techo(len(X)*razon):]\n",
    "    return X_entrenamiento, Y_entrenamiento, X_test, Y_test"
   ]
  },
  {
   "cell_type": "markdown",
   "metadata": {},
   "source": [
    "## Código Principal"
   ]
  },
  {
   "cell_type": "code",
   "execution_count": 3,
   "metadata": {},
   "outputs": [
    {
     "name": "stdout",
     "output_type": "stream",
     "text": [
      "Cargando datos...\n",
      "Procesando datos...\n",
      "\n",
      "Animal: elephant\n",
      "\n",
      "Animal: emu\n",
      "\n",
      "Animal: flamingo\n",
      "\n",
      "Animal: rhino\n"
     ]
    }
   ],
   "source": [
    "tamano = (200, 300)\n",
    "datos = CargaDatos('../objects')\n",
    "X, Y = construyeDataset(datos,numPixeles=1500, balancear=True)"
   ]
  },
  {
   "cell_type": "markdown",
   "metadata": {},
   "source": [
    "## Validación cruzada"
   ]
  },
  {
   "cell_type": "code",
   "execution_count": 9,
   "metadata": {
    "scrolled": true
   },
   "outputs": [
    {
     "name": "stdout",
     "output_type": "stream",
     "text": [
      "Acuracy de 0.73 ± 0.1. Se usaron 1000 intentos.\n"
     ]
    },
    {
     "data": {
      "image/png": "[encoded data removed]",
      "text/plain": [
       "<Figure size 1000x500 with 1 Axes>"
      ]
     },
     "metadata": {},
     "output_type": "display_data"
    }
   ],
   "source": [
    "acuracis = []\n",
    "N = 1000\n",
    "for i in range(N):\n",
    "    X_entrenamiento, Y_entrenamiento, X_test, Y_test = separaEntrenamientoTest(X,Y,razon=0.9)\n",
    "    modelo_svm = svm.SVC(kernel='rbf')\n",
    "    modelo_svm.fit(X_entrenamiento,Y_entrenamiento)\n",
    "    Y_predicho = modelo_svm.predict(X_test)\n",
    "    acuracis.append(accuracy_score(Y_test,Y_predicho))"
   ]
  },
  {
   "cell_type": "code",
   "execution_count": 16,
   "metadata": {},
   "outputs": [
    {
     "name": "stdout",
     "output_type": "stream",
     "text": [
      "Acuracy de 0.73 ± 0.1. Se usaron 1000 intentos.\n"
     ]
    },
    {
     "data": {
      "image/png": "[encoded data removed]",
      "text/plain": [
       "<Figure size 1000x500 with 1 Axes>"
      ]
     },
     "metadata": {},
     "output_type": "display_data"
    }
   ],
   "source": [
    "media = round(np.mean(acuracis),2)\n",
    "sigma = round(np.sqrt(np.var(acuracis)),2)\n",
    "mediana = round(np.median(acuracis),2)\n",
    "\n",
    "plt.figure(figsize = (10, 5))\n",
    "plt.axvline(x = .5, color = '#8fbcbb',label='0.5')\n",
    "plt.axvline(x = media, color = '#81a1c1',label='media de accuracy')\n",
    "plt.axvline(x = media + sigma , color = '#a3be8c',label='+σ')\n",
    "plt.axvline(x = media - sigma, color = '#a3be8c',label='-σ')\n",
    "plt.axvline(x = mediana, color = '#ebcb8b',label='mediana')\n",
    "\n",
    "plt.hist(acuracis,color='#4c566a',bins=10)\n",
    "plt.legend()\n",
    "\n",
    "print(f'Acuracy de {media} ± {sigma}. Se usaron {N} intentos.')"
   ]
  },
  {
   "cell_type": "code",
   "execution_count": null,
   "metadata": {},
   "outputs": [],
   "source": []
  }
 ],
 "metadata": {
  "kernelspec": {
   "display_name": "entornoPvc",
   "language": "python",
   "name": "entornopvc"
  },
  "language_info": {
   "codemirror_mode": {
    "name": "ipython",
    "version": 3
   },
   "file_extension": ".py",
   "mimetype": "text/x-python",
   "name": "python",
   "nbconvert_exporter": "python",
   "pygments_lexer": "ipython3",
   "version": "3.11.0"
  }
 },
 "nbformat": 4,
 "nbformat_minor": 4
}
