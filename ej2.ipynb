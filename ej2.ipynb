{
 "cells": [
  {
   "cell_type": "markdown",
   "metadata": {},
   "source": [
    "# EJERCICIO 2\n",
    "\n",
    "Desarrollar un método computacional que, a partir de una img (y opcionalmente su máscara\n",
    "de recorte), permita:\n",
    "Identificar las imágenes que pertenecen a las categorı́as : “elephant” y “rhino”.\n",
    "Proporcionar una evaluación cuantitativa adecuada de la identificaciones correspondientes\n",
    "\n",
    "Es decir, clasificar cada img, considerando caracterı́sticas integradas para toda la img, región recortada y/o contorno, entre, por ejemplo, clase objetivo y resto"
   ]
  },
  {
   "cell_type": "code",
   "execution_count": null,
   "metadata": {},
   "outputs": [],
   "source": [
    "import cv2\n",
    "from matplotlib import pyplot as plt\n",
    "from random import sample"
   ]
  },
  {
   "cell_type": "markdown",
   "metadata": {},
   "source": [
    "Primero cargaremos las imagenes y las etiquetas. Como queremos diferenciar entre elefantes y rinocerontes, no nos vale la pena esforzarnos en distinguir si es un emu o un flamenco, entonces todo lo que no nos interese sera 'otros'. En una primera instancia no considereremos las máscaras de esta forma $X$ serán todas las imágenes e $Y$ sera la etiqueta asociada de entre {'rinoceronte', 'elefante', 'otros'}."
   ]
  },
  {
   "cell_type": "code",
   "execution_count": null,
   "metadata": {},
   "outputs": [],
   "source": [
    "import glob\n",
    "import skimage.io as io\n",
    "import skimage.transform as tr\n",
    "import matplotlib.pyplot as plt\n",
    "import numpy as np\n",
    "\n",
    "elefante = glob.glob(\"../objects/images/elephant/*.jpg\") # rutas\n",
    "rino = glob.glob(\"../objects/images/rhino/*.jpg\")\n",
    "emu = glob.glob(\"../objects/images/emu/*.jpg\")\n",
    "flamingo = glob.glob(\"../objects/images/flamingo/*.jpg\")\n",
    "otros = [*emu, *flamingo]\n",
    "\n",
    "elefante = [io.imread(i) for i in elefante] #imageneoos\n",
    "rino = [io.imread(i) for i in rino]\n",
    "otros = [io.imread(i) for i in otros]\n",
    "\n",
    "\n",
    "plt.figure(figsize=(12,8))\n",
    "plt.subplot(131)\n",
    "plt.imshow(elefante[0])\n",
    "plt.title(\"elefante\")\n",
    "plt.axis(\"off\")\n",
    "\n",
    "plt.subplot(132)\n",
    "plt.imshow(rino[0])\n",
    "plt.title(\"rino\")\n",
    "plt.axis(\"off\")\n",
    "\n",
    "plt.subplot(133)\n",
    "plt.imshow(otros[0])\n",
    "plt.title(\"otros\")\n",
    "plt.axis(\"off\")\n",
    "\n",
    "plt.show()"
   ]
  },
  {
   "cell_type": "code",
   "execution_count": null,
   "metadata": {},
   "outputs": [],
   "source": [
    "mascaraElefante = glob.glob(\"../objects/masks/elephant/*.png\")\n",
    "mascaraElefante = [io.imread(i) for i in mascaraElefante]"
   ]
  },
  {
   "cell_type": "code",
   "execution_count": null,
   "metadata": {},
   "outputs": [],
   "source": [
    "mascaraElefante[0] = tr.resize(mascaraElefante[0],(elefante[0].shape[0],elefante[0].shape[1]))"
   ]
  },
  {
   "cell_type": "code",
   "execution_count": null,
   "metadata": {},
   "outputs": [],
   "source": [
    "capa = np.array(mascaraElefante[0] > 0.5,dtype=np.uint8)"
   ]
  },
  {
   "cell_type": "code",
   "execution_count": null,
   "metadata": {},
   "outputs": [],
   "source": [
    "capa = [[[capa[i][j],capa[i][j],capa[i][j]] for j in range(capa.shape[1])] for i in range(capa.shape[0])]"
   ]
  },
  {
   "cell_type": "code",
   "execution_count": null,
   "metadata": {},
   "outputs": [],
   "source": [
    "capa;"
   ]
  },
  {
   "cell_type": "code",
   "execution_count": null,
   "metadata": {},
   "outputs": [],
   "source": [
    "#np.multiply(capa,elefante[0])\n",
    "verdad = np.resizenp.array(mascaraElefante[0] > 0.5,dtype=np.uint8)\n",
    "for i in range(elefante[0].shape)"
   ]
  },
  {
   "cell_type": "code",
   "execution_count": null,
   "metadata": {},
   "outputs": [],
   "source": [
    "elefante[0][] = 0"
   ]
  },
  {
   "cell_type": "code",
   "execution_count": null,
   "metadata": {},
   "outputs": [],
   "source": [
    "elefante[0].shape, mascaraElefante[0].shape"
   ]
  },
  {
   "cell_type": "code",
   "execution_count": null,
   "metadata": {},
   "outputs": [],
   "source": [
    "plt.imshow(elefante[0])"
   ]
  },
  {
   "cell_type": "code",
   "execution_count": null,
   "metadata": {},
   "outputs": [],
   "source": [
    "# primero cargaremos las imagenes, las etiquetas y eventualmente las máscaras\n",
    "# como queremos diferenciar entre elefantes y rinocerontes, no nos vale la pena esforzarnos\n",
    "# en distinguir si es un emu o un flamenco, entonces todo lo que no nos interese sera 'otros'\n",
    "\n",
    "# en una primera instancia no considereremos las máscaras\n",
    "# de esta forma X serán todas las imágenes e Y sera la etiqueta asociada"
   ]
  },
  {
   "cell_type": "code",
   "execution_count": null,
   "metadata": {},
   "outputs": [],
   "source": [
    "# ahora armamos X e Y\n",
    "\n",
    "X = [*elefante, *rino, *otros]\n",
    "Y =  [*['elefante']*len(elefante), *['rino']*len(rino), *['otros']*len(otros)]"
   ]
  },
  {
   "cell_type": "code",
   "execution_count": null,
   "metadata": {},
   "outputs": [],
   "source": [
    "# como hay imagenes en blanco y negro y en color, y eso supone diferencias de tamaño, voy a \n",
    "# tridimensionalizar las imagenes en blanco y negro. Triplicando la información que contienen.\n",
    "\n",
    "def Tridimensionaliza(imagen):\n",
    "    return np.array([[[imagen[i][j],imagen[i][j],imagen[i][j]] for i in range(np.shape(imagen)[0])] for j in range(np.shape(imagen)[1])])\n",
    "\n",
    "# ademas, pasamos todos los elementos de X a arrays de numpy\n",
    "X = [np.array(imagen) if len(np.shape(imagen)) == 3  else Tridimensionaliza(imagen) for imagen in X ] "
   ]
  },
  {
   "cell_type": "code",
   "execution_count": null,
   "metadata": {},
   "outputs": [],
   "source": [
    "# (como simple demostracion de que lo anterior es correcto..\n",
    "from random import randint as r\n",
    "\n",
    "indice = r(0,len(X))\n",
    "\n",
    "plt.imshow(X[indice])\n",
    "plt.title(Y[indice])\n",
    "plt.show()\n",
    "# ...si al ejecutar, el titulo se corresponde con la imagen es que X e Y estan construidos segun nuestro deseo)"
   ]
  },
  {
   "cell_type": "code",
   "execution_count": null,
   "metadata": {},
   "outputs": [],
   "source": [
    "from math import ceil as techo\n",
    "from random import shuffle as s\n",
    "\n",
    "# Como cada imagen mide distinto las hacemos todas iguales. Además, las aplanamos\n",
    "\n",
    "X = [np.array(tr.resize(i,(300,200))).flatten() for i in X]\n",
    "\n",
    "# Para que nuestras conclusiones sean rigurosas, debemos O usar el error de validación O usar\n",
    "# una partición de los datos en Entrenamiento y Test. Prodemos con la opción de test\n",
    "\n",
    "\n",
    "# primero tendremos que desordenarlas, porque si le pasamos solo el final, tendra\n",
    "# que clasificar exclusivamente 'otros' lo cual no nos interesa\n",
    "\n",
    "temp = list(zip(X, Y))\n",
    "s(temp)\n",
    "X, Y = zip(*temp)\n",
    "\n",
    "\n",
    "X_entrenamiento = X[:techo(len(X)*.8) ]\n",
    "X_test =          X[ techo(len(X)*.8):]\n",
    "Y_entrenamiento = Y[:techo(len(X)*.8) ]\n",
    "Y_test =          Y[ techo(len(X)*.8):]"
   ]
  },
  {
   "cell_type": "code",
   "execution_count": null,
   "metadata": {},
   "outputs": [],
   "source": []
  },
  {
   "cell_type": "markdown",
   "metadata": {},
   "source": [
    "# Momento de entrenar"
   ]
  },
  {
   "cell_type": "markdown",
   "metadata": {},
   "source": [
    "Como en el enunciado de la práctica no se entra en detalle de que algoritmo usar... lo científico por nuestra parte es probar los que nos _tengan sentido_ y ver cual da mejor resultado. Como primer intento, probaremos con KNN..."
   ]
  },
  {
   "cell_type": "markdown",
   "metadata": {},
   "source": [
    "# Primer intento, sin mascaras con KNN"
   ]
  },
  {
   "cell_type": "code",
   "execution_count": null,
   "metadata": {},
   "outputs": [],
   "source": [
    "from sklearn.neighbors import KNeighborsClassifier\n",
    "from sklearn.metrics import classification_report\n",
    "\n",
    "# que k usamos? vamos a ver cuantos datos tenemos\n",
    "#\n",
    "# $ print(f'hay {len(elefante)} elefantes y {len(rino)} rinocerontes')\n",
    "# -> hay 64 elefantes y 59 rinocerontes\n",
    "#\n",
    "# usaremos un K de entorno a 50, por tanto (prepiero que descuide algunos \n",
    "# de su misma clase que que considere algunos de otras clases)\n",
    "\n",
    "knn=KNeighborsClassifier(n_neighbors=50)\n",
    "knn.fit(X_entrenamiento,Y_entrenamiento)\n",
    "Y_predicho = knn.predict(X_test)\n",
    "print(classification_report(Y_predicho,Y_test))"
   ]
  },
  {
   "cell_type": "code",
   "execution_count": null,
   "metadata": {},
   "outputs": [],
   "source": [
    "# Malos resultados, pero curiosamente donde mejores resultados\n",
    "# hubo fue en 'otros'. Vamos a probar a repetir todo pero sin 'otros'"
   ]
  },
  {
   "cell_type": "markdown",
   "metadata": {},
   "source": [
    "# Segundo intento, sin mascaras con KNN y sin _otros_"
   ]
  },
  {
   "cell_type": "code",
   "execution_count": null,
   "metadata": {},
   "outputs": [],
   "source": [
    "X = [*elefante, *rino]\n",
    "Y =  [*['elefante']*len(elefante), *['rino']*len(rino)]\n",
    "\n",
    "temp = list(zip(X, Y))\n",
    "s(temp)\n",
    "X, Y = zip(*temp)\n",
    "\n",
    "\n",
    "X = [np.array(imagen) if len(np.shape(imagen)) == 3  else Tridimensionaliza(imagen) for imagen in X ] \n",
    "\n",
    "X = [np.array(tr.resize(i,(300,200))).flatten() for i in X]\n",
    "\n",
    "X_entrenamiento = X[:techo(len(X)*.8) ]\n",
    "X_test =          X[ techo(len(X)*.8):]\n",
    "Y_entrenamiento = Y[:techo(len(X)*.8) ]\n",
    "Y_test =          Y[ techo(len(X)*.8):]\n",
    "\n",
    "knn=KNeighborsClassifier(n_neighbors=50)\n",
    "knn.fit(X_entrenamiento,Y_entrenamiento)\n",
    "Y_predicho = knn.predict(X_test)\n",
    "print(classification_report(Y_predicho,Y_test))"
   ]
  },
  {
   "cell_type": "markdown",
   "metadata": {},
   "source": [
    "Observamos una mejora en los resultados, pero porque ahora la tarea es mucho más sencilla. Un modelo que no sepa nada acertaria en la mitad de las ocasiones."
   ]
  },
  {
   "cell_type": "code",
   "execution_count": null,
   "metadata": {},
   "outputs": [],
   "source": [
    "\n",
    "# recomendación joaquim \n",
    "# pintar matriz confusionb"
   ]
  },
  {
   "cell_type": "markdown",
   "metadata": {},
   "source": [
    "# Con máscaras"
   ]
  },
  {
   "cell_type": "code",
   "execution_count": null,
   "metadata": {},
   "outputs": [],
   "source": [
    "import cv2\n",
    "import numpy as np\n",
    "from matplotlib import pyplot as plt\n",
    "from random import sample\n",
    "from math import ceil as techo\n",
    "from sklearn import svm\n",
    "from sklearn.neighbors import KNeighborsClassifier\n",
    "from sklearn.metrics import classification_report\n",
    "from sklearn.linear_model import SGDClassifier\n",
    "from random import shuffle as s"
   ]
  },
  {
   "cell_type": "markdown",
   "metadata": {},
   "source": [
    "## Carga de datos"
   ]
  },
  {
   "cell_type": "code",
   "execution_count": null,
   "metadata": {},
   "outputs": [],
   "source": [
    "import os\n",
    "\n",
    "def ordenaDirectorio(directorio, extension=\"jpg\"):\n",
    "    return sorted([os.path.join(directorio, f) for f in os.listdir(directorio) if f.endswith(extension)])\n",
    "\n",
    "animales = ['elephant', 'emu', 'flamingo', 'rhino']\n",
    "\n",
    "datos = {}\n",
    "for animal in animales:\n",
    "    datos[animal] = ordenaDirectorio(\"../objects/images/elephant\", extension=\"jpg\"), ordenaDirectorio(\"../objects/masks/elephant\", extension=\"png\")\n",
    "\n",
    "verbose = False\n",
    "\n",
    "for animal in datos:\n",
    "    print(f'\\nAnimal: {animal}')\n",
    "    for imagen, mascara in zip(datos[animal][0], datos[animal][1]):\n",
    "        if verbose:\n",
    "            print(f\"Imagen: {os.path.basename(imagen)}, Máscara: {os.path.basename(mascara)}\")"
   ]
  },
  {
   "cell_type": "markdown",
   "metadata": {},
   "source": [
    "## Procesado"
   ]
  },
  {
   "cell_type": "code",
   "execution_count": null,
   "metadata": {},
   "outputs": [],
   "source": [
    "def recortadoAleatorio(elemento, minimo):\n",
    "    indices = sorted(sample(range(len(elemento)),tamanoMinimo))\n",
    "    return np.array([elemento[indice] for indice in indices]).flatten()\n",
    "\n",
    "\n",
    "X = []\n",
    "Y = []\n",
    "tamano = (200, 300)\n",
    "for indice, animal in enumerate(datos):\n",
    "    print(f'\\nAnimal: {animal}')\n",
    "    for imagen, mascara in zip(datos[animal][0], datos[animal][1]):\n",
    "        # Cargar y redimensionar imagen\n",
    "        imagen = cv2.imread(imagen)\n",
    "        imagen = cv2.resize(imagen, (tamano[1],tamano[0])) # si lo pongo tal cual y luego hago imagen.shape devuelve (300, 200)\n",
    "        #imagen = imagen.astype('float32') / 255.0\n",
    "\n",
    "\n",
    "        mascara = cv2.imread(mascara, cv2.IMREAD_GRAYSCALE)\n",
    "        mascara = cv2.resize(mascara, (tamano[1],tamano[0]))\n",
    "        mascara = (mascara > 0).astype(bool)  # Binarizar la máscara\n",
    "\n",
    "        X.append([imagen[i][j] for i in range(tamano[0]) for j in range(tamano[1]) if mascara[i][j]]) # metemos los pixeles en los que haya mascara\n",
    "\n",
    "        #y = np.zeros(len(datos)) # onehot\n",
    "        #y[indice] = 1            # |\n",
    "        #Y.append(y)\n",
    "\n",
    "        if animal == 'elephant':\n",
    "            Y.append('E')\n",
    "        elif animal == 'rhino':\n",
    "            Y.append('R')\n",
    "        else:\n",
    "            Y.append('O') # la O de Otros\n",
    "\n",
    "tamanoMinimo = min([len(i) for i in X])\n",
    "X = np.array([recortadoAleatorio(i, tamanoMinimo) for i in X])\n",
    "\n",
    "# ahora X son vectores de 7789 elementos que son \n",
    "# pixeles de la imagen que se coreresponden con la seleccion\n",
    "# de la mascara. Adicionalmente estos vectores se recortan aleatoriamente para que tengan el mismo\n",
    "# tamaño, esencialmente se escoge un subconjunto ordenado de pixeles "
   ]
  },
  {
   "cell_type": "code",
   "execution_count": null,
   "metadata": {},
   "outputs": [],
   "source": [
    "# primero tendremos que desordenarlas, porque si le pasamos solo el final, tendra\n",
    "# que clasificar exclusivamente 'otros' lo cual no nos interesa\n",
    "\n",
    "temp = list(zip(X, Y))\n",
    "s(temp)\n",
    "X, Y = zip(*temp)\n",
    "\n",
    "\n",
    "X_entrenamiento = X[:techo(len(X)*.85) ]\n",
    "X_test =          X[ techo(len(X)*.85):]\n",
    "Y_entrenamiento = Y[:techo(len(X)*.85) ]\n",
    "Y_test =          Y[ techo(len(X)*.85):]"
   ]
  },
  {
   "cell_type": "markdown",
   "metadata": {},
   "source": [
    "# Knn"
   ]
  },
  {
   "cell_type": "code",
   "execution_count": null,
   "metadata": {},
   "outputs": [],
   "source": [
    "modelo_knn=KNeighborsClassifier(n_neighbors=40)\n",
    "modelo_knn.fit(X_entrenamiento,Y_entrenamiento)\n",
    "Y_predicho = modelo_knn.predict(X_test)\n",
    "print(classification_report(Y_predicho,Y_test))"
   ]
  },
  {
   "cell_type": "markdown",
   "metadata": {},
   "source": [
    "# Svm"
   ]
  },
  {
   "cell_type": "code",
   "execution_count": null,
   "metadata": {
    "scrolled": true
   },
   "outputs": [],
   "source": [
    "modelo_svm = svm.SVC()\n",
    "modelo_svm.fit(X_entrenamiento,Y_entrenamiento)\n",
    "Y_predicho = modelo_svm.predict(X_test)\n",
    "print(classification_report(Y_predicho,Y_test))"
   ]
  },
  {
   "cell_type": "markdown",
   "metadata": {},
   "source": [
    "# Perdida Hinge"
   ]
  },
  {
   "cell_type": "code",
   "execution_count": null,
   "metadata": {},
   "outputs": [],
   "source": [
    "modelo_hinge = SGDClassifier(loss=\"hinge\", penalty=\"l2\", max_iter=25)\n",
    "modelo_hinge.fit(X_entrenamiento,Y_entrenamiento)\n",
    "Y_predicho = modelo_hinge.predict(X_test)\n",
    "print(classification_report(Y_predicho,Y_test))"
   ]
  },
  {
   "cell_type": "markdown",
   "metadata": {},
   "source": [
    "Como frente a SVM y KNN ofrece _mejores_ resltados, vamos a inspeccionar un poco más este algoritmo."
   ]
  },
  {
   "cell_type": "code",
   "execution_count": null,
   "metadata": {},
   "outputs": [],
   "source": [
    "plt.hist([len(i) for i in X],bins=25);"
   ]
  },
  {
   "cell_type": "code",
   "execution_count": null,
   "metadata": {},
   "outputs": [],
   "source": [
    "len(X[0])/3"
   ]
  },
  {
   "cell_type": "code",
   "execution_count": null,
   "metadata": {},
   "outputs": [],
   "source": [
    "\n",
    "# Prints list of random items of given length\n",
    "list1 = [1, 2, 3, 4, 5] \n",
    "\n",
    "print(sample(list1,8))"
   ]
  },
  {
   "cell_type": "code",
   "execution_count": null,
   "metadata": {},
   "outputs": [],
   "source": [
    "l = [2,4,6,7,5,3,2,5,3,6]\n",
    "l[slice(2,3,4)]"
   ]
  },
  {
   "cell_type": "code",
   "execution_count": null,
   "metadata": {},
   "outputs": [],
   "source": []
  }
 ],
 "metadata": {
  "kernelspec": {
   "display_name": "entornoPvc",
   "language": "python",
   "name": "entornopvc"
  },
  "language_info": {
   "codemirror_mode": {
    "name": "ipython",
    "version": 3
   },
   "file_extension": ".py",
   "mimetype": "text/x-python",
   "name": "python",
   "nbconvert_exporter": "python",
   "pygments_lexer": "ipython3",
   "version": "3.11.0"
  }
 },
 "nbformat": 4,
 "nbformat_minor": 4
}
