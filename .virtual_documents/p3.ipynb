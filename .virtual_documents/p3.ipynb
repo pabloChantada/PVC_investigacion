


import sys
print ('\n'.join(sys.path))


import os

# Imprime el directorio actual de trabajo
print("Directorio actual:", os.getcwd())

# Verifica si el directorio existe
#ruta_base = "/home/clown/3-year/computer_vision/roads"
ruta_base = '../'
if os.path.exists(ruta_base):
    print("La ruta base existe")
else:
    print("La ruta base no existe")


#pip install numpy
#pip install --pre scikit-image # el pre es por si tienes python3.13
#pip install glob
#pip install opencv-python

import numpy as np
import skimage.io as io
import glob
import cv2

# Ruta a tus imágenes y máscaras

ruta_imagenes = glob.glob("../roads/sat/*.tif*")
ruta_mascaras = glob.glob("../roads/gt/*.tif*")

# image_paths = glob.glob("/home/clown/3-year/computer_vision/p3/sat/*.tiff")
# mask_paths = glob.glob("/home/clown/3-year/computer_vision/p3/gt/*.tif")

# Cargar imágenes y máscaras
imagenes = [io.imread(ruta_imagen) for ruta_imagen in ruta_imagenes]
mascaras = [io.imread(ruta_mascara) for ruta_mascara in ruta_mascaras]

# Redimensionar
if len(imagenes) > 0 and len(mascaras) > 0:
    imagenes = [cv2.resize(imagen, (256, 256)) for imagen in imagenes]
    mascaras = [cv2.resize(mascara, (256, 256)) for mascara in mascaras]
    print("Redimensionamiento completado.")
else:
    print("No se cargaron imágenes o máscaras.")

#print(image_paths)




def extraerCaracteristicas(imagen):
    # Vector de características RGB
    r, g, b = imagen[:, :, 0], imagen[:, :, 1], imagen[:, :, 2]
    # Matriz de valores RGB para cada pixel
    imagenPlana = np.stack((r.flatten(), g.flatten(), b.flatten()), axis=1)
    
    # Conversión a escala de grises y extracción de bordes con Canny
    gris = cv2.cvtColor(imagen, cv2.COLOR_BGR2GRAY)
    bordes = cv2.Canny(gris, 150, 300).flatten()

    # Concatenar RGB y bordes en un solo vector de características
    caracteristicas = np.concatenate((imagenPlana, bordes[:, np.newaxis]), axis=1)
    return caracteristicas

# Aplicar extracción de características a todas las imágenes
caracteristicas = [extraerCaracteristicas(img) for img in imagenes]


# ejemplo, vemos el efecto del método Canny de cv2 imprimiendo los "bordes"
# que detecta en rojo. Vemos que las cerreteras las detecta pero tambien 
# otras cosas que no son carreteras. Lógico

imagenEjemploBorde = io.imread('../roads/sat/10228705_15.tiff')
imagenEjemploBorde[np.reshape(extraerCaracteristicas(imagenEjemploBorde)[:,3] != 0,(1500,1500))] = [255,0,0]

io.imshow(imagenEjemploBorde);





get_ipython().getoutput("pip install scikit-learn")
get_ipython().getoutput("pip install xgboost")


from sklearn.model_selection import KFold
from sklearn.ensemble import RandomForestClassifier
from sklearn.metrics import accuracy_score, precision_score, recall_score, f1_score
from xgboost import XGBClassifier

# Aplanar las máscaras para obtener etiquetas (1 para carretera, 0 para no-carretera)
etiquetas = [mascara.flatten() for mascara in mascaras]

# Inicialización del clasificador y k-fold cross-validation
kf = KFold(n_splits=8)
metricas = {"accuracy": [], "precision": [], "recall": [], "f1": []}

for indicesEntrenamiento, indicesTest in kf.split(caracteristicas):
    X_train = np.vstack([caracteristicas[i] for i in indicesEntrenamiento])
    y_train = np.hstack([etiquetas[i] for i in indicesEntrenamiento])
    X_test = np.vstack([caracteristicas[i] for i in indicesTest])
    y_test = np.hstack([etiquetas[i] for i in indicesTest])
    
    # Entrenar clasificador
    # clf = RandomForestClassifier(n_estimators=50)
    clasificador = XGBClassifier(tree_method='gpu_hist')
    clasificador.fit(X_train, y_train)
    
    # Evaluación en conjunto de prueba
    y_pred = clf.predict(X_test)
    metricas["accuracy"].append(accuracy_score(y_test, y_pred))
    metricas["precision"].append(precision_score(y_test, y_pred, average="macro"))
    metricas["recall"].append(recall_score(y_test, y_pred, average="macro"))
    metricas["f1"].append(f1_score(y_test, y_pred, average="macro"))

# Mostrar resultados de validación cruzada
for nombreMetrica, puntuaciones in metricas.items():
    print(f"{nombreMetrica.capitalize()}: {np.mean(puntuaciones):.4f} ± {np.std(puntuaciones):.4f}")



import matplotlib.pyplot as plt

new_image = io.imread("/home/clown/3-year/computer_vision/roads/gt/10228705_15.tif")
plt.imshow(new_image, cmap="gray")
plt.show()





def predict_mask(image, model):
    features = extract_features(image)
    mask_pred = model.predict(features)
    return mask_pred.reshape(image.shape[:2])

# Generar máscara para una nueva imagen
new_image = io.imread("/home/clown/3-year/computer_vision/roads/sat/10228705_15.tiff")
mask_pred = predict_mask(new_image, clf)

# Mostrar la máscara predicha
import matplotlib.pyplot as plt
plt.imshow(mask_pred, cmap="gray")
plt.show()



# Comparar máscara predicha con ground truth
ground_truth = io.imread("/home/clown/3-year/computer_vision/p3/gt/10078675_15.tif")

accuracy = accuracy_score(ground_truth.flatten(), mask_pred.flatten())
precision = precision_score(ground_truth.flatten(), mask_pred.flatten(), average="macro")
recall = recall_score(ground_truth.flatten(), mask_pred.flatten(), average="macro")
f1 = f1_score(ground_truth.flatten(), mask_pred.flatten(), average="macro")

print(f"Accuracy: {accuracy:.4f}")
print(f"Precision: {precision:.4f}")
print(f"Recall: {recall:.4f}")
print(f"F1 Score: {f1:.4f}")




